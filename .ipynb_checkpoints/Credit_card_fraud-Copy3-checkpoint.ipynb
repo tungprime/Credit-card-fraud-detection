{
 "cells": [
  {
   "cell_type": "markdown",
   "metadata": {},
   "source": [
    "Credit card frauds are a serious problem. According to the following <a href=\"https://www.meetup.com/PyDataChi/events/271789356\"> source, </a> in 2018, $24.26 Billion was lost due to payment card fraud worldwide. Furthermore, credit fraud is climbing: There is an 18.4 percent increase in 2018. Recent advancements in machine learning and deep learning should help banks make more precise decisions. \n",
    "\n",
    "That is exactly the purpose of this project. More precisely, we will train several machine learning models to predict credit card frauds from public data that is available at\n",
    "    \n",
    "https://www.kaggle.com/mlg-ulb/creditcardfraud\n",
    "\n",
    "Below is their description of this problem: \n",
    "\n",
    "\"The datasets contain transactions made by credit cards in September 2013 by European cardholders.\n",
    "This dataset presents transactions that occurred in two days, where we have 492 frauds out of 284,807 transactions. The dataset is highly unbalanced, the positive class (frauds) account for 0.172% of all transactions.\n",
    "\n",
    "It contains only numerical input variables which are the result of a PCA transformation. Unfortunately, due to confidentiality issues, we cannot provide the original features and more background information about the data. Features V1, V2, … V28 are the principal components obtained with PCA, the only features which have not been transformed with PCA are 'Time' and 'Amount'. Feature 'Time' contains the seconds elapsed between each transaction and the first transaction in the dataset. The feature 'Amount' is the transaction Amount, this feature can be used for example-dependant cost-sensitive learning. Feature 'Class' is the response variable and it takes value 1 in case of fraud and 0 otherwise.\"\n",
    "\n",
    "Unlike typical classification problems in machine learning, this particular problem poses a serious challenge: the data is really skewed as very few transactions are fraudulent. We will explore several options to deal with this issue. Concretely, we will use the following machine learning models to solve this problem. \n",
    "\n",
    "1. Standard and cost-sensitive logistic regression. \n",
    "\n",
    "\n",
    "2. Standard and cost-sensitive decision tree classifiers.\n",
    "\n",
    "\n",
    "3. Standard and cost-sensitive support vector machines. \n",
    "\n",
    "\n",
    "These models solve the skewed-data problem by assigning a higher penalty to the positive class. \n",
    "\n",
    "\n",
    "We can also over-sample the minority class by a technique called \"Synthetic Minority Over-sampling Technique\". This will be discussed in \n",
    "\n",
    "4. SMOTE algorithm (Synthetic Minority Over-sampling Technique). \n",
    "\n",
    "Finally, we can also use deep learning to detect the minority class by an anomaly-detection algorithm called Autoencoder. \n",
    "\n",
    "5. Autoencoder. \n",
    "\n",
    "We will compare the performances of these models as well as their trade-offs. \n"
   ]
  },
  {
   "cell_type": "markdown",
   "metadata": {},
   "source": [
    "# Part 1: An overview of the dataset"
   ]
  },
  {
   "cell_type": "markdown",
   "metadata": {},
   "source": [
    "First, let us import several essential packages. "
   ]
  },
  {
   "cell_type": "code",
   "execution_count": 1,
   "metadata": {},
   "outputs": [],
   "source": [
    "import pandas as pd\n",
    "import numpy as np\n",
    "import matplotlib.pyplot as plt\n",
    "import seaborn as sns\n",
    "%matplotlib inline\n",
    "from IPython.core.pylabtools import figsize\n",
    "from sklearn.linear_model import LogisticRegression\n",
    "from sklearn.model_selection import train_test_split\n",
    "import statsmodels.api as sm\n",
    "from scipy import stats\n",
    "from sklearn.metrics import classification_report\n",
    "import sklearn\n",
    "from sklearn.metrics import precision_recall_curve\n",
    "from sklearn.metrics import auc\n",
    "from sklearn.tree import DecisionTreeClassifier\n",
    "from sklearn import tree\n",
    "from sklearn import svm\n",
    "\n",
    "from sklearn.metrics import roc_curve\n",
    "from sklearn.metrics import roc_auc_score\n",
    "\n",
    "import tensorflow as tf\n",
    "from pylab import rcParams\n",
    "from keras.models import Model, load_model\n",
    "from keras.layers import Input, Dense\n",
    "from keras.callbacks import ModelCheckpoint, TensorBoard\n",
    "from keras import regularizers"
   ]
  },
  {
   "cell_type": "markdown",
   "metadata": {},
   "source": [
    "Next, let us import the dataset. "
   ]
  },
  {
   "cell_type": "code",
   "execution_count": 2,
   "metadata": {},
   "outputs": [],
   "source": [
    "df =pd.read_csv('creditcard.csv')"
   ]
  },
  {
   "cell_type": "markdown",
   "metadata": {},
   "source": [
    "A quick snapshot of the dataset"
   ]
  },
  {
   "cell_type": "code",
   "execution_count": 3,
   "metadata": {},
   "outputs": [
    {
     "data": {
      "text/html": [
       "<div>\n",
       "<style scoped>\n",
       "    .dataframe tbody tr th:only-of-type {\n",
       "        vertical-align: middle;\n",
       "    }\n",
       "\n",
       "    .dataframe tbody tr th {\n",
       "        vertical-align: top;\n",
       "    }\n",
       "\n",
       "    .dataframe thead th {\n",
       "        text-align: right;\n",
       "    }\n",
       "</style>\n",
       "<table border=\"1\" class=\"dataframe\">\n",
       "  <thead>\n",
       "    <tr style=\"text-align: right;\">\n",
       "      <th></th>\n",
       "      <th>Time</th>\n",
       "      <th>V1</th>\n",
       "      <th>V2</th>\n",
       "      <th>V3</th>\n",
       "      <th>V4</th>\n",
       "      <th>V5</th>\n",
       "      <th>V6</th>\n",
       "      <th>V7</th>\n",
       "      <th>V8</th>\n",
       "      <th>V9</th>\n",
       "      <th>...</th>\n",
       "      <th>V21</th>\n",
       "      <th>V22</th>\n",
       "      <th>V23</th>\n",
       "      <th>V24</th>\n",
       "      <th>V25</th>\n",
       "      <th>V26</th>\n",
       "      <th>V27</th>\n",
       "      <th>V28</th>\n",
       "      <th>Amount</th>\n",
       "      <th>Class</th>\n",
       "    </tr>\n",
       "  </thead>\n",
       "  <tbody>\n",
       "    <tr>\n",
       "      <th>0</th>\n",
       "      <td>0.0</td>\n",
       "      <td>-1.359807</td>\n",
       "      <td>-0.072781</td>\n",
       "      <td>2.536347</td>\n",
       "      <td>1.378155</td>\n",
       "      <td>-0.338321</td>\n",
       "      <td>0.462388</td>\n",
       "      <td>0.239599</td>\n",
       "      <td>0.098698</td>\n",
       "      <td>0.363787</td>\n",
       "      <td>...</td>\n",
       "      <td>-0.018307</td>\n",
       "      <td>0.277838</td>\n",
       "      <td>-0.110474</td>\n",
       "      <td>0.066928</td>\n",
       "      <td>0.128539</td>\n",
       "      <td>-0.189115</td>\n",
       "      <td>0.133558</td>\n",
       "      <td>-0.021053</td>\n",
       "      <td>149.62</td>\n",
       "      <td>0</td>\n",
       "    </tr>\n",
       "    <tr>\n",
       "      <th>1</th>\n",
       "      <td>0.0</td>\n",
       "      <td>1.191857</td>\n",
       "      <td>0.266151</td>\n",
       "      <td>0.166480</td>\n",
       "      <td>0.448154</td>\n",
       "      <td>0.060018</td>\n",
       "      <td>-0.082361</td>\n",
       "      <td>-0.078803</td>\n",
       "      <td>0.085102</td>\n",
       "      <td>-0.255425</td>\n",
       "      <td>...</td>\n",
       "      <td>-0.225775</td>\n",
       "      <td>-0.638672</td>\n",
       "      <td>0.101288</td>\n",
       "      <td>-0.339846</td>\n",
       "      <td>0.167170</td>\n",
       "      <td>0.125895</td>\n",
       "      <td>-0.008983</td>\n",
       "      <td>0.014724</td>\n",
       "      <td>2.69</td>\n",
       "      <td>0</td>\n",
       "    </tr>\n",
       "    <tr>\n",
       "      <th>2</th>\n",
       "      <td>1.0</td>\n",
       "      <td>-1.358354</td>\n",
       "      <td>-1.340163</td>\n",
       "      <td>1.773209</td>\n",
       "      <td>0.379780</td>\n",
       "      <td>-0.503198</td>\n",
       "      <td>1.800499</td>\n",
       "      <td>0.791461</td>\n",
       "      <td>0.247676</td>\n",
       "      <td>-1.514654</td>\n",
       "      <td>...</td>\n",
       "      <td>0.247998</td>\n",
       "      <td>0.771679</td>\n",
       "      <td>0.909412</td>\n",
       "      <td>-0.689281</td>\n",
       "      <td>-0.327642</td>\n",
       "      <td>-0.139097</td>\n",
       "      <td>-0.055353</td>\n",
       "      <td>-0.059752</td>\n",
       "      <td>378.66</td>\n",
       "      <td>0</td>\n",
       "    </tr>\n",
       "    <tr>\n",
       "      <th>3</th>\n",
       "      <td>1.0</td>\n",
       "      <td>-0.966272</td>\n",
       "      <td>-0.185226</td>\n",
       "      <td>1.792993</td>\n",
       "      <td>-0.863291</td>\n",
       "      <td>-0.010309</td>\n",
       "      <td>1.247203</td>\n",
       "      <td>0.237609</td>\n",
       "      <td>0.377436</td>\n",
       "      <td>-1.387024</td>\n",
       "      <td>...</td>\n",
       "      <td>-0.108300</td>\n",
       "      <td>0.005274</td>\n",
       "      <td>-0.190321</td>\n",
       "      <td>-1.175575</td>\n",
       "      <td>0.647376</td>\n",
       "      <td>-0.221929</td>\n",
       "      <td>0.062723</td>\n",
       "      <td>0.061458</td>\n",
       "      <td>123.50</td>\n",
       "      <td>0</td>\n",
       "    </tr>\n",
       "    <tr>\n",
       "      <th>4</th>\n",
       "      <td>2.0</td>\n",
       "      <td>-1.158233</td>\n",
       "      <td>0.877737</td>\n",
       "      <td>1.548718</td>\n",
       "      <td>0.403034</td>\n",
       "      <td>-0.407193</td>\n",
       "      <td>0.095921</td>\n",
       "      <td>0.592941</td>\n",
       "      <td>-0.270533</td>\n",
       "      <td>0.817739</td>\n",
       "      <td>...</td>\n",
       "      <td>-0.009431</td>\n",
       "      <td>0.798278</td>\n",
       "      <td>-0.137458</td>\n",
       "      <td>0.141267</td>\n",
       "      <td>-0.206010</td>\n",
       "      <td>0.502292</td>\n",
       "      <td>0.219422</td>\n",
       "      <td>0.215153</td>\n",
       "      <td>69.99</td>\n",
       "      <td>0</td>\n",
       "    </tr>\n",
       "  </tbody>\n",
       "</table>\n",
       "<p>5 rows × 31 columns</p>\n",
       "</div>"
      ],
      "text/plain": [
       "   Time        V1        V2        V3        V4        V5        V6        V7  \\\n",
       "0   0.0 -1.359807 -0.072781  2.536347  1.378155 -0.338321  0.462388  0.239599   \n",
       "1   0.0  1.191857  0.266151  0.166480  0.448154  0.060018 -0.082361 -0.078803   \n",
       "2   1.0 -1.358354 -1.340163  1.773209  0.379780 -0.503198  1.800499  0.791461   \n",
       "3   1.0 -0.966272 -0.185226  1.792993 -0.863291 -0.010309  1.247203  0.237609   \n",
       "4   2.0 -1.158233  0.877737  1.548718  0.403034 -0.407193  0.095921  0.592941   \n",
       "\n",
       "         V8        V9  ...       V21       V22       V23       V24       V25  \\\n",
       "0  0.098698  0.363787  ... -0.018307  0.277838 -0.110474  0.066928  0.128539   \n",
       "1  0.085102 -0.255425  ... -0.225775 -0.638672  0.101288 -0.339846  0.167170   \n",
       "2  0.247676 -1.514654  ...  0.247998  0.771679  0.909412 -0.689281 -0.327642   \n",
       "3  0.377436 -1.387024  ... -0.108300  0.005274 -0.190321 -1.175575  0.647376   \n",
       "4 -0.270533  0.817739  ... -0.009431  0.798278 -0.137458  0.141267 -0.206010   \n",
       "\n",
       "        V26       V27       V28  Amount  Class  \n",
       "0 -0.189115  0.133558 -0.021053  149.62      0  \n",
       "1  0.125895 -0.008983  0.014724    2.69      0  \n",
       "2 -0.139097 -0.055353 -0.059752  378.66      0  \n",
       "3 -0.221929  0.062723  0.061458  123.50      0  \n",
       "4  0.502292  0.219422  0.215153   69.99      0  \n",
       "\n",
       "[5 rows x 31 columns]"
      ]
     },
     "execution_count": 3,
     "metadata": {},
     "output_type": "execute_result"
    }
   ],
   "source": [
    "df.head()"
   ]
  },
  {
   "cell_type": "code",
   "execution_count": 4,
   "metadata": {},
   "outputs": [
    {
     "data": {
      "text/plain": [
       "(284807, 31)"
      ]
     },
     "execution_count": 4,
     "metadata": {},
     "output_type": "execute_result"
    }
   ],
   "source": [
    "df.shape"
   ]
  },
  {
   "cell_type": "markdown",
   "metadata": {},
   "source": [
    "Note that this dataset is obtained from PCA so we would expect that most relevant features have mean 0 and uncorrelated. We can double check this by using the describe function in python."
   ]
  },
  {
   "cell_type": "code",
   "execution_count": 5,
   "metadata": {},
   "outputs": [
    {
     "data": {
      "text/html": [
       "<div>\n",
       "<style scoped>\n",
       "    .dataframe tbody tr th:only-of-type {\n",
       "        vertical-align: middle;\n",
       "    }\n",
       "\n",
       "    .dataframe tbody tr th {\n",
       "        vertical-align: top;\n",
       "    }\n",
       "\n",
       "    .dataframe thead th {\n",
       "        text-align: right;\n",
       "    }\n",
       "</style>\n",
       "<table border=\"1\" class=\"dataframe\">\n",
       "  <thead>\n",
       "    <tr style=\"text-align: right;\">\n",
       "      <th></th>\n",
       "      <th>Time</th>\n",
       "      <th>V1</th>\n",
       "      <th>V2</th>\n",
       "      <th>V3</th>\n",
       "      <th>V4</th>\n",
       "      <th>V5</th>\n",
       "      <th>V6</th>\n",
       "      <th>V7</th>\n",
       "      <th>V8</th>\n",
       "      <th>V9</th>\n",
       "      <th>...</th>\n",
       "      <th>V21</th>\n",
       "      <th>V22</th>\n",
       "      <th>V23</th>\n",
       "      <th>V24</th>\n",
       "      <th>V25</th>\n",
       "      <th>V26</th>\n",
       "      <th>V27</th>\n",
       "      <th>V28</th>\n",
       "      <th>Amount</th>\n",
       "      <th>Class</th>\n",
       "    </tr>\n",
       "  </thead>\n",
       "  <tbody>\n",
       "    <tr>\n",
       "      <th>count</th>\n",
       "      <td>284807.000000</td>\n",
       "      <td>2.848070e+05</td>\n",
       "      <td>2.848070e+05</td>\n",
       "      <td>2.848070e+05</td>\n",
       "      <td>2.848070e+05</td>\n",
       "      <td>2.848070e+05</td>\n",
       "      <td>2.848070e+05</td>\n",
       "      <td>2.848070e+05</td>\n",
       "      <td>2.848070e+05</td>\n",
       "      <td>2.848070e+05</td>\n",
       "      <td>...</td>\n",
       "      <td>2.848070e+05</td>\n",
       "      <td>2.848070e+05</td>\n",
       "      <td>2.848070e+05</td>\n",
       "      <td>2.848070e+05</td>\n",
       "      <td>2.848070e+05</td>\n",
       "      <td>2.848070e+05</td>\n",
       "      <td>2.848070e+05</td>\n",
       "      <td>2.848070e+05</td>\n",
       "      <td>284807.000000</td>\n",
       "      <td>284807.000000</td>\n",
       "    </tr>\n",
       "    <tr>\n",
       "      <th>mean</th>\n",
       "      <td>94813.859575</td>\n",
       "      <td>3.919560e-15</td>\n",
       "      <td>5.688174e-16</td>\n",
       "      <td>-8.769071e-15</td>\n",
       "      <td>2.782312e-15</td>\n",
       "      <td>-1.552563e-15</td>\n",
       "      <td>2.010663e-15</td>\n",
       "      <td>-1.694249e-15</td>\n",
       "      <td>-1.927028e-16</td>\n",
       "      <td>-3.137024e-15</td>\n",
       "      <td>...</td>\n",
       "      <td>1.537294e-16</td>\n",
       "      <td>7.959909e-16</td>\n",
       "      <td>5.367590e-16</td>\n",
       "      <td>4.458112e-15</td>\n",
       "      <td>1.453003e-15</td>\n",
       "      <td>1.699104e-15</td>\n",
       "      <td>-3.660161e-16</td>\n",
       "      <td>-1.206049e-16</td>\n",
       "      <td>88.349619</td>\n",
       "      <td>0.001727</td>\n",
       "    </tr>\n",
       "    <tr>\n",
       "      <th>std</th>\n",
       "      <td>47488.145955</td>\n",
       "      <td>1.958696e+00</td>\n",
       "      <td>1.651309e+00</td>\n",
       "      <td>1.516255e+00</td>\n",
       "      <td>1.415869e+00</td>\n",
       "      <td>1.380247e+00</td>\n",
       "      <td>1.332271e+00</td>\n",
       "      <td>1.237094e+00</td>\n",
       "      <td>1.194353e+00</td>\n",
       "      <td>1.098632e+00</td>\n",
       "      <td>...</td>\n",
       "      <td>7.345240e-01</td>\n",
       "      <td>7.257016e-01</td>\n",
       "      <td>6.244603e-01</td>\n",
       "      <td>6.056471e-01</td>\n",
       "      <td>5.212781e-01</td>\n",
       "      <td>4.822270e-01</td>\n",
       "      <td>4.036325e-01</td>\n",
       "      <td>3.300833e-01</td>\n",
       "      <td>250.120109</td>\n",
       "      <td>0.041527</td>\n",
       "    </tr>\n",
       "    <tr>\n",
       "      <th>min</th>\n",
       "      <td>0.000000</td>\n",
       "      <td>-5.640751e+01</td>\n",
       "      <td>-7.271573e+01</td>\n",
       "      <td>-4.832559e+01</td>\n",
       "      <td>-5.683171e+00</td>\n",
       "      <td>-1.137433e+02</td>\n",
       "      <td>-2.616051e+01</td>\n",
       "      <td>-4.355724e+01</td>\n",
       "      <td>-7.321672e+01</td>\n",
       "      <td>-1.343407e+01</td>\n",
       "      <td>...</td>\n",
       "      <td>-3.483038e+01</td>\n",
       "      <td>-1.093314e+01</td>\n",
       "      <td>-4.480774e+01</td>\n",
       "      <td>-2.836627e+00</td>\n",
       "      <td>-1.029540e+01</td>\n",
       "      <td>-2.604551e+00</td>\n",
       "      <td>-2.256568e+01</td>\n",
       "      <td>-1.543008e+01</td>\n",
       "      <td>0.000000</td>\n",
       "      <td>0.000000</td>\n",
       "    </tr>\n",
       "    <tr>\n",
       "      <th>25%</th>\n",
       "      <td>54201.500000</td>\n",
       "      <td>-9.203734e-01</td>\n",
       "      <td>-5.985499e-01</td>\n",
       "      <td>-8.903648e-01</td>\n",
       "      <td>-8.486401e-01</td>\n",
       "      <td>-6.915971e-01</td>\n",
       "      <td>-7.682956e-01</td>\n",
       "      <td>-5.540759e-01</td>\n",
       "      <td>-2.086297e-01</td>\n",
       "      <td>-6.430976e-01</td>\n",
       "      <td>...</td>\n",
       "      <td>-2.283949e-01</td>\n",
       "      <td>-5.423504e-01</td>\n",
       "      <td>-1.618463e-01</td>\n",
       "      <td>-3.545861e-01</td>\n",
       "      <td>-3.171451e-01</td>\n",
       "      <td>-3.269839e-01</td>\n",
       "      <td>-7.083953e-02</td>\n",
       "      <td>-5.295979e-02</td>\n",
       "      <td>5.600000</td>\n",
       "      <td>0.000000</td>\n",
       "    </tr>\n",
       "    <tr>\n",
       "      <th>50%</th>\n",
       "      <td>84692.000000</td>\n",
       "      <td>1.810880e-02</td>\n",
       "      <td>6.548556e-02</td>\n",
       "      <td>1.798463e-01</td>\n",
       "      <td>-1.984653e-02</td>\n",
       "      <td>-5.433583e-02</td>\n",
       "      <td>-2.741871e-01</td>\n",
       "      <td>4.010308e-02</td>\n",
       "      <td>2.235804e-02</td>\n",
       "      <td>-5.142873e-02</td>\n",
       "      <td>...</td>\n",
       "      <td>-2.945017e-02</td>\n",
       "      <td>6.781943e-03</td>\n",
       "      <td>-1.119293e-02</td>\n",
       "      <td>4.097606e-02</td>\n",
       "      <td>1.659350e-02</td>\n",
       "      <td>-5.213911e-02</td>\n",
       "      <td>1.342146e-03</td>\n",
       "      <td>1.124383e-02</td>\n",
       "      <td>22.000000</td>\n",
       "      <td>0.000000</td>\n",
       "    </tr>\n",
       "    <tr>\n",
       "      <th>75%</th>\n",
       "      <td>139320.500000</td>\n",
       "      <td>1.315642e+00</td>\n",
       "      <td>8.037239e-01</td>\n",
       "      <td>1.027196e+00</td>\n",
       "      <td>7.433413e-01</td>\n",
       "      <td>6.119264e-01</td>\n",
       "      <td>3.985649e-01</td>\n",
       "      <td>5.704361e-01</td>\n",
       "      <td>3.273459e-01</td>\n",
       "      <td>5.971390e-01</td>\n",
       "      <td>...</td>\n",
       "      <td>1.863772e-01</td>\n",
       "      <td>5.285536e-01</td>\n",
       "      <td>1.476421e-01</td>\n",
       "      <td>4.395266e-01</td>\n",
       "      <td>3.507156e-01</td>\n",
       "      <td>2.409522e-01</td>\n",
       "      <td>9.104512e-02</td>\n",
       "      <td>7.827995e-02</td>\n",
       "      <td>77.165000</td>\n",
       "      <td>0.000000</td>\n",
       "    </tr>\n",
       "    <tr>\n",
       "      <th>max</th>\n",
       "      <td>172792.000000</td>\n",
       "      <td>2.454930e+00</td>\n",
       "      <td>2.205773e+01</td>\n",
       "      <td>9.382558e+00</td>\n",
       "      <td>1.687534e+01</td>\n",
       "      <td>3.480167e+01</td>\n",
       "      <td>7.330163e+01</td>\n",
       "      <td>1.205895e+02</td>\n",
       "      <td>2.000721e+01</td>\n",
       "      <td>1.559499e+01</td>\n",
       "      <td>...</td>\n",
       "      <td>2.720284e+01</td>\n",
       "      <td>1.050309e+01</td>\n",
       "      <td>2.252841e+01</td>\n",
       "      <td>4.584549e+00</td>\n",
       "      <td>7.519589e+00</td>\n",
       "      <td>3.517346e+00</td>\n",
       "      <td>3.161220e+01</td>\n",
       "      <td>3.384781e+01</td>\n",
       "      <td>25691.160000</td>\n",
       "      <td>1.000000</td>\n",
       "    </tr>\n",
       "  </tbody>\n",
       "</table>\n",
       "<p>8 rows × 31 columns</p>\n",
       "</div>"
      ],
      "text/plain": [
       "                Time            V1            V2            V3            V4  \\\n",
       "count  284807.000000  2.848070e+05  2.848070e+05  2.848070e+05  2.848070e+05   \n",
       "mean    94813.859575  3.919560e-15  5.688174e-16 -8.769071e-15  2.782312e-15   \n",
       "std     47488.145955  1.958696e+00  1.651309e+00  1.516255e+00  1.415869e+00   \n",
       "min         0.000000 -5.640751e+01 -7.271573e+01 -4.832559e+01 -5.683171e+00   \n",
       "25%     54201.500000 -9.203734e-01 -5.985499e-01 -8.903648e-01 -8.486401e-01   \n",
       "50%     84692.000000  1.810880e-02  6.548556e-02  1.798463e-01 -1.984653e-02   \n",
       "75%    139320.500000  1.315642e+00  8.037239e-01  1.027196e+00  7.433413e-01   \n",
       "max    172792.000000  2.454930e+00  2.205773e+01  9.382558e+00  1.687534e+01   \n",
       "\n",
       "                 V5            V6            V7            V8            V9  \\\n",
       "count  2.848070e+05  2.848070e+05  2.848070e+05  2.848070e+05  2.848070e+05   \n",
       "mean  -1.552563e-15  2.010663e-15 -1.694249e-15 -1.927028e-16 -3.137024e-15   \n",
       "std    1.380247e+00  1.332271e+00  1.237094e+00  1.194353e+00  1.098632e+00   \n",
       "min   -1.137433e+02 -2.616051e+01 -4.355724e+01 -7.321672e+01 -1.343407e+01   \n",
       "25%   -6.915971e-01 -7.682956e-01 -5.540759e-01 -2.086297e-01 -6.430976e-01   \n",
       "50%   -5.433583e-02 -2.741871e-01  4.010308e-02  2.235804e-02 -5.142873e-02   \n",
       "75%    6.119264e-01  3.985649e-01  5.704361e-01  3.273459e-01  5.971390e-01   \n",
       "max    3.480167e+01  7.330163e+01  1.205895e+02  2.000721e+01  1.559499e+01   \n",
       "\n",
       "       ...           V21           V22           V23           V24  \\\n",
       "count  ...  2.848070e+05  2.848070e+05  2.848070e+05  2.848070e+05   \n",
       "mean   ...  1.537294e-16  7.959909e-16  5.367590e-16  4.458112e-15   \n",
       "std    ...  7.345240e-01  7.257016e-01  6.244603e-01  6.056471e-01   \n",
       "min    ... -3.483038e+01 -1.093314e+01 -4.480774e+01 -2.836627e+00   \n",
       "25%    ... -2.283949e-01 -5.423504e-01 -1.618463e-01 -3.545861e-01   \n",
       "50%    ... -2.945017e-02  6.781943e-03 -1.119293e-02  4.097606e-02   \n",
       "75%    ...  1.863772e-01  5.285536e-01  1.476421e-01  4.395266e-01   \n",
       "max    ...  2.720284e+01  1.050309e+01  2.252841e+01  4.584549e+00   \n",
       "\n",
       "                V25           V26           V27           V28         Amount  \\\n",
       "count  2.848070e+05  2.848070e+05  2.848070e+05  2.848070e+05  284807.000000   \n",
       "mean   1.453003e-15  1.699104e-15 -3.660161e-16 -1.206049e-16      88.349619   \n",
       "std    5.212781e-01  4.822270e-01  4.036325e-01  3.300833e-01     250.120109   \n",
       "min   -1.029540e+01 -2.604551e+00 -2.256568e+01 -1.543008e+01       0.000000   \n",
       "25%   -3.171451e-01 -3.269839e-01 -7.083953e-02 -5.295979e-02       5.600000   \n",
       "50%    1.659350e-02 -5.213911e-02  1.342146e-03  1.124383e-02      22.000000   \n",
       "75%    3.507156e-01  2.409522e-01  9.104512e-02  7.827995e-02      77.165000   \n",
       "max    7.519589e+00  3.517346e+00  3.161220e+01  3.384781e+01   25691.160000   \n",
       "\n",
       "               Class  \n",
       "count  284807.000000  \n",
       "mean        0.001727  \n",
       "std         0.041527  \n",
       "min         0.000000  \n",
       "25%         0.000000  \n",
       "50%         0.000000  \n",
       "75%         0.000000  \n",
       "max         1.000000  \n",
       "\n",
       "[8 rows x 31 columns]"
      ]
     },
     "execution_count": 5,
     "metadata": {},
     "output_type": "execute_result"
    }
   ],
   "source": [
    "df.describe()"
   ]
  },
  {
   "cell_type": "markdown",
   "metadata": {},
   "source": [
    "We can check that the relevant features are uncorelated as well. We plot the heatmap of the correlations for each pair of features."
   ]
  },
  {
   "cell_type": "code",
   "execution_count": 6,
   "metadata": {},
   "outputs": [
    {
     "data": {
      "image/png": "[encoded data removed]",
      "text/plain": [
       "<Figure size 900x432 with 2 Axes>"
      ]
     },
     "metadata": {
      "needs_background": "light"
     },
     "output_type": "display_data"
    }
   ],
   "source": [
    "figsize(12.5, 6)\n",
    "corr = df.iloc[:, 1:-2].corr()\n",
    "\n",
    "# plot the heatmap\n",
    "sns.heatmap(corr, \n",
    "        xticklabels=corr.columns,\n",
    "        yticklabels=corr.columns )\n",
    "plt.show()"
   ]
  },
  {
   "cell_type": "markdown",
   "metadata": {},
   "source": [
    "Before we develop any models, let us investigate the distribution of the target feature. "
   ]
  },
  {
   "cell_type": "code",
   "execution_count": 7,
   "metadata": {},
   "outputs": [
    {
     "data": {
      "image/png": "[encoded data removed]",
      "text/plain": [
       "<Figure size 900x360 with 1 Axes>"
      ]
     },
     "metadata": {
      "needs_background": "light"
     },
     "output_type": "display_data"
    }
   ],
   "source": [
    "figsize(12.5,5)\n",
    "df['Class'].value_counts().plot(kind='bar', rot=0)\n",
    "plt.xlabel('Class')\n",
    "plt.ylabel('Frequency')\n",
    "plt.title('Distribution of class')\n",
    "plt.show()"
   ]
  },
  {
   "cell_type": "markdown",
   "metadata": {},
   "source": [
    "We see clearly that the majority, at least 99.8 %  of transactions are normal. This will be several big challenge for our models. "
   ]
  },
  {
   "cell_type": "markdown",
   "metadata": {},
   "source": [
    "# Part 2: Data visualization"
   ]
  },
  {
   "cell_type": "markdown",
   "metadata": {},
   "source": [
    "In this part, we get some feelings about the data using data visualization."
   ]
  },
  {
   "cell_type": "markdown",
   "metadata": {},
   "source": [
    "First, let us investigate feature V1. "
   ]
  },
  {
   "cell_type": "code",
   "execution_count": 8,
   "metadata": {},
   "outputs": [
    {
     "data": {
      "image/png": "[encoded data removed]",
      "text/plain": [
       "<Figure size 900x288 with 1 Axes>"
      ]
     },
     "metadata": {
      "needs_background": "light"
     },
     "output_type": "display_data"
    }
   ],
   "source": [
    "figsize(12.5,4)\n",
    "plt.xlabel('Range of V1 feature')\n",
    "plt.title('Histogram of V1 feature')\n",
    "plt.hist(x=df['V1'], bins=40, range =[-10,10], density=True)\n",
    "plt.show()"
   ]
  },
  {
   "cell_type": "markdown",
   "metadata": {},
   "source": [
    "This confirms our previous assertion that the mean should be 0. However, the plot also suggests that feature V1 does\n",
    "not follow a normal distribution. As we can see, there are two peaks in the above graph."
   ]
  },
  {
   "cell_type": "markdown",
   "metadata": {},
   "source": [
    "We can also plot the other features as well. "
   ]
  },
  {
   "cell_type": "code",
   "execution_count": 9,
   "metadata": {},
   "outputs": [
    {
     "data": {
      "image/png": "[encoded data removed]",
      "text/plain": [
       "<Figure size 720x432 with 6 Axes>"
      ]
     },
     "metadata": {
      "needs_background": "light"
     },
     "output_type": "display_data"
    }
   ],
   "source": [
    "features=['V1', 'V2', 'V3', 'V4', 'V5', 'V6']\n",
    "fig, axes = plt.subplots(2, 3)\n",
    "# plot counter\n",
    "count=0\n",
    "for r in range(2):\n",
    "    for c in range(3):\n",
    "        df[features[count]].plot(kind='hist', ax=axes[r,c], bins =40, title=f\"Histogram of {features[count]} feature\",\n",
    "                                figsize=(10,6), range=[-10,10])\n",
    "        count +=1\n",
    "        plt.tight_layout()\n",
    "plt.show()\n",
    "    "
   ]
  },
  {
   "cell_type": "markdown",
   "metadata": {},
   "source": [
    "One important information in this dataset is the Amount feature. From a business perspective, this is an especially\n",
    "important. Let us study the distribution of this feature. First, we can compute the mean value for each class (fraud- not fraud)"
   ]
  },
  {
   "cell_type": "code",
   "execution_count": 10,
   "metadata": {
    "scrolled": true
   },
   "outputs": [
    {
     "data": {
      "text/plain": [
       "Class\n",
       "0     88.291022\n",
       "1    122.211321\n",
       "Name: Amount, dtype: float64"
      ]
     },
     "execution_count": 10,
     "metadata": {},
     "output_type": "execute_result"
    }
   ],
   "source": [
    "df.groupby('Class')['Amount'].mean()"
   ]
  },
  {
   "cell_type": "markdown",
   "metadata": {},
   "source": [
    "The difference of the means are quite large. Let's investigate more by comparing the for two classes. "
   ]
  },
  {
   "cell_type": "code",
   "execution_count": 11,
   "metadata": {},
   "outputs": [
    {
     "data": {
      "image/png": "[encoded data removed]",
      "text/plain": [
       "<Figure size 720x432 with 1 Axes>"
      ]
     },
     "metadata": {
      "needs_background": "light"
     },
     "output_type": "display_data"
    }
   ],
   "source": [
    "df.groupby('Class')['Amount'].plot(legend=True, figsize=(10,6))\n",
    "plt.show()"
   ]
  },
  {
   "cell_type": "code",
   "execution_count": 12,
   "metadata": {},
   "outputs": [
    {
     "data": {
      "text/html": [
       "<div>\n",
       "<style scoped>\n",
       "    .dataframe tbody tr th:only-of-type {\n",
       "        vertical-align: middle;\n",
       "    }\n",
       "\n",
       "    .dataframe tbody tr th {\n",
       "        vertical-align: top;\n",
       "    }\n",
       "\n",
       "    .dataframe thead th {\n",
       "        text-align: right;\n",
       "    }\n",
       "</style>\n",
       "<table border=\"1\" class=\"dataframe\">\n",
       "  <thead>\n",
       "    <tr style=\"text-align: right;\">\n",
       "      <th></th>\n",
       "      <th>count</th>\n",
       "      <th>mean</th>\n",
       "      <th>std</th>\n",
       "      <th>min</th>\n",
       "      <th>25%</th>\n",
       "      <th>50%</th>\n",
       "      <th>75%</th>\n",
       "      <th>max</th>\n",
       "    </tr>\n",
       "    <tr>\n",
       "      <th>Class</th>\n",
       "      <th></th>\n",
       "      <th></th>\n",
       "      <th></th>\n",
       "      <th></th>\n",
       "      <th></th>\n",
       "      <th></th>\n",
       "      <th></th>\n",
       "      <th></th>\n",
       "    </tr>\n",
       "  </thead>\n",
       "  <tbody>\n",
       "    <tr>\n",
       "      <th>0</th>\n",
       "      <td>284315.0</td>\n",
       "      <td>88.291022</td>\n",
       "      <td>250.105092</td>\n",
       "      <td>0.0</td>\n",
       "      <td>5.65</td>\n",
       "      <td>22.00</td>\n",
       "      <td>77.05</td>\n",
       "      <td>25691.16</td>\n",
       "    </tr>\n",
       "    <tr>\n",
       "      <th>1</th>\n",
       "      <td>492.0</td>\n",
       "      <td>122.211321</td>\n",
       "      <td>256.683288</td>\n",
       "      <td>0.0</td>\n",
       "      <td>1.00</td>\n",
       "      <td>9.25</td>\n",
       "      <td>105.89</td>\n",
       "      <td>2125.87</td>\n",
       "    </tr>\n",
       "  </tbody>\n",
       "</table>\n",
       "</div>"
      ],
      "text/plain": [
       "          count        mean         std  min   25%    50%     75%       max\n",
       "Class                                                                      \n",
       "0      284315.0   88.291022  250.105092  0.0  5.65  22.00   77.05  25691.16\n",
       "1         492.0  122.211321  256.683288  0.0  1.00   9.25  105.89   2125.87"
      ]
     },
     "execution_count": 12,
     "metadata": {},
     "output_type": "execute_result"
    }
   ],
   "source": [
    "df.groupby('Class')['Amount'].describe()"
   ]
  },
  {
   "cell_type": "markdown",
   "metadata": {},
   "source": [
    "The above plot and description are rather interesting. The mean and variance of the two classes are quite similar. However, we can clearly see that the amount in fraud transactions are typically smaller than the non-fraud ones. It also makes sense that the maximum value of fraud transactions is just about 2125 euros. This is because a large amount of transactions would probably require authorization from the owner (for example, 2-step verification). As a result, this could be prevented in most cases. It is still alarming that on average it costs 256 euros for each fraud transaction. "
   ]
  },
  {
   "cell_type": "markdown",
   "metadata": {},
   "source": [
    "We are also interested in whether the times of transactions play any role in the detecting fraud. "
   ]
  },
  {
   "cell_type": "code",
   "execution_count": 13,
   "metadata": {},
   "outputs": [
    {
     "data": {
      "image/png": "[encoded data removed]",
      "text/plain": [
       "<Figure size 900x288 with 2 Axes>"
      ]
     },
     "metadata": {
      "needs_background": "light"
     },
     "output_type": "display_data"
    }
   ],
   "source": [
    "f, (ax1, ax2) = plt.subplots(2, 1, sharex=True)\n",
    "f.suptitle('Time of transaction vs Amount by class')\n",
    "\n",
    "ax1.scatter(x=df[df['Class']==0]['Time'], y=df[df['Class']==0]['Amount'], label='Class 0', color='green')\n",
    "ax1.set_title('Class 0')\n",
    "\n",
    "ax2.scatter(x=df[df['Class']==1]['Time'], y=df[df['Class']==1]['Amount'], label='Class 1')\n",
    "\n",
    "ax2.set_title('Class 1')\n",
    "\n",
    "plt.xlabel('Time')\n",
    "plt.ylabel('Amount')\n",
    "plt.show()"
   ]
  },
  {
   "cell_type": "markdown",
   "metadata": {},
   "source": [
    "There does not any visually clear correlation between the amount and time of the transaction. "
   ]
  },
  {
   "cell_type": "markdown",
   "metadata": {},
   "source": [
    "# Part 3: Preprocessing our data."
   ]
  },
  {
   "cell_type": "markdown",
   "metadata": {},
   "source": [
    "In order to help our models reach the (local) solutions faster as well as to improve their performances, we will rescale our variables. For our dataset, we only need to rescale the Amount variable (the other variables are obtained from PCA so we do not need to rescale them.)"
   ]
  },
  {
   "cell_type": "code",
   "execution_count": 14,
   "metadata": {},
   "outputs": [],
   "source": [
    "from sklearn.preprocessing import StandardScaler\n",
    "\n",
    "#rescale the amount variable\n",
    "df['Amount'] = StandardScaler().fit_transform(df['Amount'].values.reshape(-1, 1))"
   ]
  },
  {
   "cell_type": "markdown",
   "metadata": {},
   "source": [
    "Next, we divide our data into training set and test set. Note that, as we see above, the time variable is not helpful in identifying credit card frauds. Consequently, we will not use it in our model. "
   ]
  },
  {
   "cell_type": "code",
   "execution_count": 15,
   "metadata": {},
   "outputs": [],
   "source": [
    "#choosing the features for our model \n",
    "X=df.drop(['Time', 'Class'], axis=1)\n",
    "y=df['Class']\n",
    "\n",
    "#create the train and test sets \n",
    "X_train, X_test, y_train, y_test = train_test_split(X, y, test_size=0.33, random_state=42)\n"
   ]
  },
  {
   "cell_type": "markdown",
   "metadata": {},
   "source": [
    "Let us check that there are enough samples of fraud class (class 1) in both training and test sets."
   ]
  },
  {
   "cell_type": "code",
   "execution_count": 16,
   "metadata": {},
   "outputs": [
    {
     "data": {
      "text/plain": [
       "0    190477\n",
       "1       343\n",
       "Name: Class, dtype: int64"
      ]
     },
     "execution_count": 16,
     "metadata": {},
     "output_type": "execute_result"
    }
   ],
   "source": [
    "#class distribution in the training set\n",
    "y_train.value_counts()"
   ]
  },
  {
   "cell_type": "code",
   "execution_count": 17,
   "metadata": {},
   "outputs": [
    {
     "data": {
      "text/plain": [
       "0    93838\n",
       "1      149\n",
       "Name: Class, dtype: int64"
      ]
     },
     "execution_count": 17,
     "metadata": {},
     "output_type": "execute_result"
    }
   ],
   "source": [
    "#class distribution in the test set\n",
    "y_test.value_counts()"
   ]
  },
  {
   "cell_type": "markdown",
   "metadata": {},
   "source": [
    "We see that there are enough positive samples in both the training set and the test set."
   ]
  },
  {
   "cell_type": "markdown",
   "metadata": {},
   "source": [
    "# Part 4: Train and evaluate our models"
   ]
  },
  {
   "cell_type": "markdown",
   "metadata": {},
   "source": [
    "# Part 4.1: Logistic regression models"
   ]
  },
  {
   "cell_type": "markdown",
   "metadata": {},
   "source": [
    "We will start with the popular logistic regression algorithm. \n",
    "\n"
   ]
  },
  {
   "cell_type": "code",
   "execution_count": 22,
   "metadata": {},
   "outputs": [],
   "source": [
    "#fit a logistic model to the training set.\n",
    "model= LogisticRegression(max_iter=10000) \n",
    "logit_model=model.fit(X_train, y_train)"
   ]
  },
  {
   "cell_type": "markdown",
   "metadata": {},
   "source": [
    "Let us visualize the estimation for the parameters in our model."
   ]
  },
  {
   "cell_type": "code",
   "execution_count": 23,
   "metadata": {},
   "outputs": [
    {
     "data": {
      "image/png": "[encoded data removed]",
      "text/plain": [
       "<Figure size 1008x432 with 1 Axes>"
      ]
     },
     "metadata": {
      "needs_background": "light"
     },
     "output_type": "display_data"
    }
   ],
   "source": [
    "logit_model_coef=[[item] for item in logit_model.coef_[0]]\n",
    "d=dict(zip(X_train.columns, logit_model_coef))\n",
    "coef=pd.DataFrame.from_dict(d)\n",
    "figsize(14,6)\n",
    "coef.transpose().plot(kind='bar')\n",
    "plt.axhline(y=0.1, color='r', linestyle='--') \n",
    "plt.axhline(y=-0.1, color='r', linestyle='--') \n",
    "plt.show()"
   ]
  },
  {
   "cell_type": "markdown",
   "metadata": {},
   "source": [
    "We see that some of the coefficients are rather small. "
   ]
  },
  {
   "cell_type": "markdown",
   "metadata": {},
   "source": [
    "Let's evaluate the performance of our model on the training set and the test set."
   ]
  },
  {
   "cell_type": "code",
   "execution_count": 24,
   "metadata": {},
   "outputs": [],
   "source": [
    "#prediction on the training set and the test set\n",
    "train_prediction = logit_model.predict(X_train)\n",
    "test_prediction = logit_model.predict(X_test)\n"
   ]
  },
  {
   "cell_type": "markdown",
   "metadata": {},
   "source": [
    "We can then compute the confusion matrix as well as the classification report of this model"
   ]
  },
  {
   "cell_type": "code",
   "execution_count": 25,
   "metadata": {
    "scrolled": true
   },
   "outputs": [
    {
     "data": {
      "text/plain": [
       "array([[190449,     28],\n",
       "       [   131,    212]])"
      ]
     },
     "execution_count": 25,
     "metadata": {},
     "output_type": "execute_result"
    }
   ],
   "source": [
    "# Compute the confussion matrix of this model with respect to the training set\n",
    "\n",
    "sklearn.metrics.confusion_matrix(y_train, train_prediction)"
   ]
  },
  {
   "cell_type": "code",
   "execution_count": 26,
   "metadata": {},
   "outputs": [
    {
     "name": "stdout",
     "output_type": "stream",
     "text": [
      "              precision    recall  f1-score   support\n",
      "\n",
      "           0       1.00      1.00      1.00    190477\n",
      "           1       0.88      0.62      0.73       343\n",
      "\n",
      "    accuracy                           1.00    190820\n",
      "   macro avg       0.94      0.81      0.86    190820\n",
      "weighted avg       1.00      1.00      1.00    190820\n",
      "\n"
     ]
    }
   ],
   "source": [
    "print(sklearn.metrics.classification_report(y_train, train_prediction))"
   ]
  },
  {
   "cell_type": "markdown",
   "metadata": {},
   "source": [
    "This model misses about 40% of fraud transactions. Clearly, this result is not satisfying. Let's how it performs on the test set."
   ]
  },
  {
   "cell_type": "code",
   "execution_count": 27,
   "metadata": {},
   "outputs": [
    {
     "name": "stdout",
     "output_type": "stream",
     "text": [
      "              precision    recall  f1-score   support\n",
      "\n",
      "           0       1.00      1.00      1.00     93838\n",
      "           1       0.88      0.63      0.73       149\n",
      "\n",
      "    accuracy                           1.00     93987\n",
      "   macro avg       0.94      0.82      0.87     93987\n",
      "weighted avg       1.00      1.00      1.00     93987\n",
      "\n"
     ]
    }
   ],
   "source": [
    "# We can also \n",
    "print(classification_report(y_test,test_prediction))"
   ]
  },
  {
   "cell_type": "markdown",
   "metadata": {},
   "source": [
    "The result does not seem encouraging. We miss 1/3 of the fraud transactions! \n",
    "\n",
    "\n",
    "Now, we come to the crucial observation for this problem: we want to catch frauds and consequently, we need to get better recall scores while at the same time control other scores. "
   ]
  },
  {
   "cell_type": "markdown",
   "metadata": {},
   "source": [
    "To get a complete picture, we can plot the Precision-Recall curve as well. "
   ]
  },
  {
   "cell_type": "code",
   "execution_count": 28,
   "metadata": {},
   "outputs": [
    {
     "data": {
      "image/png": "[encoded data removed]",
      "text/plain": [
       "<Figure size 1008x432 with 1 Axes>"
      ]
     },
     "metadata": {
      "needs_background": "light"
     },
     "output_type": "display_data"
    },
    {
     "name": "stdout",
     "output_type": "stream",
     "text": [
      "The area under the precision-call curve is 0.785743297444255\n"
     ]
    }
   ],
   "source": [
    "from sklearn.metrics import auc\n",
    "# calculate the no skill line as the proportion of the positive class\n",
    "no_skill = len(y_test[y_test==1])*1.0 / len(y_test)\n",
    "plt.plot([0, 1], [no_skill, no_skill], linestyle='--', label='No Skill')\n",
    "\n",
    "#get precision and recall from the model\n",
    "yhat=logit_model.predict_proba(X_test)[:, 1]\n",
    "precision_1, recall_1, thresholds_1 = precision_recall_curve(y_test, logit_model.predict_proba(X_test)[:, 1])\n",
    "\n",
    "#plot the precision-recall curve\n",
    "figsize(12.5,4)\n",
    "plt.plot(recall_1, precision_1, label='Logistic regression')\n",
    "plt.xlabel('Recall')\n",
    "plt.ylabel('Precision')\n",
    "plt.title('Precision-recall curve')\n",
    "plt.legend()\n",
    "plt.show()\n",
    "print(f\"The area under the precision-call curve is {sklearn.metrics.auc(recall_1, precision_1)}\")"
   ]
  },
  {
   "cell_type": "markdown",
   "metadata": {},
   "source": [
    "We see this this model does not perform well on both on the training and the test sets. Can we get better result by using a different set of feature variables?"
   ]
  },
  {
   "cell_type": "markdown",
   "metadata": {},
   "source": [
    "We write a function that will help us to automatically train logistic regression models. "
   ]
  },
  {
   "cell_type": "code",
   "execution_count": 43,
   "metadata": {},
   "outputs": [],
   "source": [
    "# An automated process for training a logistic regression model\n",
    "def regression_model(X,y, model):  \n",
    "    X_train, X_test, y_train, y_test = train_test_split(X, y, test_size=0.33, random_state=42)\n",
    "    logit_model=model.fit(X_train, y_train)\n",
    "    train_prediction=logit_model.predict(X_train)\n",
    "    test_prediction=logit_model.predict(X_test)\n",
    "    #metrics for the train set\n",
    "    train_recall = sklearn.metrics.recall_score(y_train, train_prediction)\n",
    "    train_precision = sklearn.metrics.precision_score(y_train, train_prediction)\n",
    "    d_train={'Training set precision_score': train_precision, 'Training set recall_score': train_recall}\n",
    "    \n",
    "    #metrics for the test set\n",
    "    test_recall = sklearn.metrics.recall_score(y_test, test_prediction)\n",
    "    test_precision = sklearn.metrics.precision_score(y_test, test_prediction)\n",
    "    d_test={'Test set precision_score': test_precision, 'Test set recall_score': test_recall}\n",
    "    \n",
    "    #confussion matrix on the training set \n",
    "    confusion_matrix_train=sklearn.metrics.confusion_matrix(y_train, train_prediction)\n",
    "    #confusion matrix on the test set\n",
    "    confusion_matrix_test=sklearn.metrics.confusion_matrix(y_test, test_prediction)\n",
    "\n",
    "    #combine the two results \n",
    "    d={**d_train, **d_test}\n",
    "    result=pd.Series(d)\n",
    "    return [result, confusion_matrix_train, confusion_matrix_test]"
   ]
  },
  {
   "cell_type": "code",
   "execution_count": 122,
   "metadata": {},
   "outputs": [],
   "source": [
    "# An automated process for training a logistic regression model\n",
    "def regression_model_1(X,y, model):  \n",
    "    X_train, X_test, y_train, y_test = train_test_split(X, y, test_size=0.33, random_state=42)\n",
    "    logit_model=model.fit(X_train, y_train)\n",
    "    train_prediction=logit_model.predict(X_train)\n",
    "    test_prediction=logit_model.predict(X_test)\n",
    "    #metrics for the train set\n",
    "    train_recall = sklearn.metrics.recall_score(y_train, train_prediction)\n",
    "    train_precision = sklearn.metrics.precision_score(y_train, train_prediction)\n",
    "    d_train={'Training set precision_score': train_precision, 'Training set recall_score': train_recall}\n",
    "    \n",
    "    #metrics for the test set\n",
    "    test_recall = sklearn.metrics.recall_score(y_test, test_prediction)\n",
    "    test_precision = sklearn.metrics.precision_score(y_test, test_prediction)\n",
    "    d_test={'Test set precision_score': test_precision, 'Test set recall_score': test_recall}\n",
    "    \n",
    "    #confussion matrix on the training set \n",
    "    confusion_matrix_train=sklearn.metrics.confusion_matrix(y_train, train_prediction)\n",
    "    #confusion matrix on the test set\n",
    "    confusion_matrix_test=sklearn.metrics.confusion_matrix(y_test, test_prediction)\n",
    "\n",
    "    #combine the two results \n",
    "    d={**d_train, **d_test}\n",
    "    result=pd.Series(d)\n",
    "    f, (ax1, ax2) = plt.subplots(1, 2)\n",
    "\n",
    "    ax1=sns.heatmap(confusion_matrix_train, annot=True, fmt='d', ax=ax1, cmap=\"Accent\") \n",
    "    ax1.set_title('Confusion matrix for training set')\n",
    "    sns.heatmap(confusion_matrix_test, annot=True, fmt='d', ax=ax2, cmap='Accent')\n",
    "    ax2.set_title('Confusion matrix for test set')\n",
    "    plt.show()\n",
    "    print(result)"
   ]
  },
  {
   "cell_type": "markdown",
   "metadata": {},
   "source": [
    "Let us apply the above automated process to a different set of feature variables. For example, we could train and test a model without the Amount variable. "
   ]
  },
  {
   "cell_type": "code",
   "execution_count": 123,
   "metadata": {},
   "outputs": [
    {
     "data": {
      "image/png": "[encoded data removed]",
      "text/plain": [
       "<Figure size 900x432 with 4 Axes>"
      ]
     },
     "metadata": {
      "needs_background": "light"
     },
     "output_type": "display_data"
    },
    {
     "name": "stdout",
     "output_type": "stream",
     "text": [
      "Training set precision_score    0.879668\n",
      "Training set recall_score       0.618076\n",
      "Test set precision_score        0.878505\n",
      "Test set recall_score           0.630872\n",
      "dtype: float64\n"
     ]
    }
   ],
   "source": [
    "X=df.drop(['Time', 'Class', 'Amount'], axis=1)\n",
    "y=df['Class']\n",
    "model=LogisticRegression()\n",
    "regression_model_1(X,y, model)"
   ]
  },
  {
   "cell_type": "code",
   "execution_count": 44,
   "metadata": {},
   "outputs": [
    {
     "data": {
      "text/plain": [
       "Training set precision_score    0.879668\n",
       "Training set recall_score       0.618076\n",
       "Test set precision_score        0.878505\n",
       "Test set recall_score           0.630872\n",
       "dtype: float64"
      ]
     },
     "execution_count": 44,
     "metadata": {},
     "output_type": "execute_result"
    }
   ],
   "source": [
    "X=df.drop(['Time', 'Class', 'Amount'], axis=1)\n",
    "y=df['Class']\n",
    "model=LogisticRegression()\n",
    "regression_model(X,y, model)[0]"
   ]
  },
  {
   "cell_type": "markdown",
   "metadata": {},
   "source": [
    "We see that the recall-scores are still low. Let us try a different model. \n",
    "\n",
    "Note that as our feature variables are already scaled, we can pick the more important features, i.e the ones with bigger coefficients in the first logistic regression model. \n",
    "                                                                                                    "
   ]
  },
  {
   "cell_type": "code",
   "execution_count": 45,
   "metadata": {},
   "outputs": [
    {
     "data": {
      "text/plain": [
       "Training set precision_score    0.886957\n",
       "Training set recall_score       0.594752\n",
       "Test set precision_score        0.863636\n",
       "Test set recall_score           0.637584\n",
       "dtype: float64"
      ]
     },
     "execution_count": 45,
     "metadata": {},
     "output_type": "execute_result"
    }
   ],
   "source": [
    "X=df[['V4', 'V7', 'V8', 'V10', 'V13', 'V14', 'V16', 'V20', 'V21', 'V22', 'V27', 'V28', 'Amount']]\n",
    "y=df['Class']\n",
    "model=LogisticRegression()\n",
    "regression_model(X,y, model)[0]"
   ]
  },
  {
   "cell_type": "markdown",
   "metadata": {},
   "source": [
    "We see that the recall score is even lower than the previous one. Let us try another model without the amount variable. "
   ]
  },
  {
   "cell_type": "code",
   "execution_count": 46,
   "metadata": {},
   "outputs": [
    {
     "data": {
      "text/plain": [
       "Training set precision_score    0.886957\n",
       "Training set recall_score       0.594752\n",
       "Test set precision_score        0.863636\n",
       "Test set recall_score           0.637584\n",
       "dtype: float64"
      ]
     },
     "execution_count": 46,
     "metadata": {},
     "output_type": "execute_result"
    }
   ],
   "source": [
    "X=df[['V4', 'V7', 'V8', 'V10', 'V13', 'V14', 'V16', 'V20', 'V21', 'V22', 'V27', 'V28']]\n",
    "y=df['Class']\n",
    "model=LogisticRegression()\n",
    "regression_model(X,y, model)[0]"
   ]
  },
  {
   "cell_type": "markdown",
   "metadata": {},
   "source": [
    "We have tried various other combinations but the recall scores are not encouraging. Our results seems to indicate that we need to either we have to use all features for our models or find alternative ways to select important features. A potential way is to use LASSO regularized logistic regression."
   ]
  },
  {
   "cell_type": "markdown",
   "metadata": {},
   "source": [
    "# Part 4.1.2: Regularized logistic regression models."
   ]
  },
  {
   "cell_type": "markdown",
   "metadata": {},
   "source": [
    "Our dataset is already normalized so we can use LASSO to fillter out less relevant features. First, we can modify \n",
    "the previous code to create automated models. "
   ]
  },
  {
   "cell_type": "code",
   "execution_count": 75,
   "metadata": {},
   "outputs": [],
   "source": [
    "from sklearn.linear_model import Lasso"
   ]
  },
  {
   "cell_type": "code",
   "execution_count": 47,
   "metadata": {},
   "outputs": [],
   "source": [
    "#train a regularized logistic regression model\n",
    "lasso=LogisticRegression(penalty='l1', solver='liblinear', C=10)\n",
    "lasso_model=regression_model(X, y, lasso)"
   ]
  },
  {
   "cell_type": "code",
   "execution_count": 48,
   "metadata": {},
   "outputs": [
    {
     "data": {
      "text/plain": [
       "array([[190451,     26],\n",
       "       [   138,    205]])"
      ]
     },
     "execution_count": 48,
     "metadata": {},
     "output_type": "execute_result"
    }
   ],
   "source": [
    "#confussion matrix for the training set\n",
    "lasso_model[1]"
   ]
  },
  {
   "cell_type": "code",
   "execution_count": 49,
   "metadata": {},
   "outputs": [
    {
     "data": {
      "text/plain": [
       "array([[93823,    15],\n",
       "       [   54,    95]])"
      ]
     },
     "execution_count": 49,
     "metadata": {},
     "output_type": "execute_result"
    }
   ],
   "source": [
    "#confussion matrix for the test set\n",
    "lasso_model[2]"
   ]
  },
  {
   "cell_type": "markdown",
   "metadata": {},
   "source": [
    "The overall precision-recall scores. "
   ]
  },
  {
   "cell_type": "code",
   "execution_count": 50,
   "metadata": {},
   "outputs": [
    {
     "data": {
      "text/plain": [
       "Training set precision_score    0.887446\n",
       "Training set recall_score       0.597668\n",
       "Test set precision_score        0.863636\n",
       "Test set recall_score           0.637584\n",
       "dtype: float64"
      ]
     },
     "execution_count": 50,
     "metadata": {},
     "output_type": "execute_result"
    }
   ],
   "source": [
    "lasso_model[0]"
   ]
  },
  {
   "cell_type": "markdown",
   "metadata": {},
   "source": [
    "The performance is still poor. As we mentioned above, one potential way to fix this problem is to select more essential features to train our model. One way to do so is to choose features with large coefficients in the LASSO model."
   ]
  },
  {
   "cell_type": "code",
   "execution_count": 51,
   "metadata": {
    "scrolled": true
   },
   "outputs": [],
   "source": [
    "#get the coefficients of the model\n",
    "lasso_l1=LogisticRegression(penalty='l1', solver='liblinear', C=10).fit(X_train, y_train)\n",
    "coefficients=(lasso_l1.coef_).tolist()[0]"
   ]
  },
  {
   "cell_type": "code",
   "execution_count": 52,
   "metadata": {},
   "outputs": [
    {
     "data": {
      "image/png": "[encoded data removed]",
      "text/plain": [
       "<Figure size 1440x360 with 1 Axes>"
      ]
     },
     "metadata": {
      "needs_background": "light"
     },
     "output_type": "display_data"
    }
   ],
   "source": [
    "#get the coefficients of the model\n",
    "coefficients=(lasso_l1.coef_).tolist()[0]\n",
    "#barplot the coefficients of this model\n",
    "fig= plt.figure(figsize=(20,5))\n",
    "plt.bar(range(len(coefficients)), list(coefficients), align='center' )\n",
    "plt.xticks(range(len(coefficients)), X_train.columns)\n",
    "plt.show()"
   ]
  },
  {
   "cell_type": "markdown",
   "metadata": {},
   "source": [
    "Unfortunately, this plot is pretty much similar to the one discussed in the first model. "
   ]
  },
  {
   "cell_type": "markdown",
   "metadata": {},
   "source": [
    "We also see that the recall score is still low on both training set and test sets. It seems like this is the best we can do for this problem using \"regular\" logistic regression. We can argue that the reason for this poor performance is that the data is too skewed. It would be better if we have a method to \"harshly\" penalize a mis-classification so that we can have better recall scores. A potential approach to this problem is to use cost-senstive logistic regression."
   ]
  },
  {
   "cell_type": "markdown",
   "metadata": {},
   "source": [
    "# Part 4.1.3: Cost-Sensitive Logistic Regression"
   ]
  },
  {
   "cell_type": "markdown",
   "metadata": {},
   "source": [
    "When we train a logistic regression model, we find the set of parameters that minimizes the log-loss function. By definition, the log-function is defined as \n",
    "$$ J(x)=-\\frac{1}{N} \\sum_{i=1}^{N} y_i \\ln(p_i)+(1-y_i) \\ln(1-p_i),$$\n",
    "where $y_i \\in {0,1}$ is actual class and $p_i$ is the predicted probability of class $1$ ($p_i$ can be written explicitly as a function of the weights together with the logistic function.) The idea is that if we our main goal is to avoid missing fraud transactions then we can put a higher penalty for that mistake. In this subsection, we do some experiments with this idea. First, we use a weight that is often used practice: that is the weight should be inversely propositional to the distribution of the training set. \n"
   ]
  },
  {
   "cell_type": "code",
   "execution_count": 53,
   "metadata": {},
   "outputs": [],
   "source": [
    "#assign the weight for our mdeo\n",
    "weights={1: 556, 0: 1}\n",
    "\n",
    "#train a cost sensitive model on the training set\n",
    "cs_model = LogisticRegression(solver='liblinear', class_weight=weights) #cost senstive model\n",
    "result=regression_model(X, y, cs_model)"
   ]
  },
  {
   "cell_type": "code",
   "execution_count": 54,
   "metadata": {},
   "outputs": [
    {
     "name": "stdout",
     "output_type": "stream",
     "text": [
      "Confussion matrix for the training set:\n",
      "[[185189   5288]\n",
      " [    33    310]]\n"
     ]
    }
   ],
   "source": [
    "#confussion matrix for the training set\n",
    "print(\"Confussion matrix for the training set:\")\n",
    "print(result[1])"
   ]
  },
  {
   "cell_type": "code",
   "execution_count": 55,
   "metadata": {},
   "outputs": [
    {
     "name": "stdout",
     "output_type": "stream",
     "text": [
      "Confussion matrix for the test set:\n",
      "[[91224  2614]\n",
      " [   13   136]]\n"
     ]
    }
   ],
   "source": [
    "#confussion matrix for the test set\n",
    "print(\"Confussion matrix for the test set:\")\n",
    "print(result[2])"
   ]
  },
  {
   "cell_type": "markdown",
   "metadata": {},
   "source": [
    "Let us also compute the overall scores. "
   ]
  },
  {
   "cell_type": "code",
   "execution_count": 56,
   "metadata": {},
   "outputs": [
    {
     "data": {
      "text/plain": [
       "Training set precision_score    0.055377\n",
       "Training set recall_score       0.903790\n",
       "Test set precision_score        0.049455\n",
       "Test set recall_score           0.912752\n",
       "dtype: float64"
      ]
     },
     "execution_count": 56,
     "metadata": {},
     "output_type": "execute_result"
    }
   ],
   "source": [
    "result[0]"
   ]
  },
  {
   "cell_type": "markdown",
   "metadata": {},
   "source": [
    "As we can see, this model detect fraud transactions very well (at the cost of misclassing about 5000 non-fraud transactions as fraud).\n",
    "\n"
   ]
  },
  {
   "cell_type": "markdown",
   "metadata": {},
   "source": [
    "We observe that this model performs consistently on both training and test sets. Is it a good model? We believe that there is no universal answer for this question. It really depends on the business context. For example, if we only care about catching credit card frauds, it is clear that this model performs pretty well. However, if there are other factors that we concern about such as whether the false positive errors will lead to serious customer's unsatisfation, then we argue that we still have lots of work to do to impove our prediction.  \n"
   ]
  },
  {
   "cell_type": "markdown",
   "metadata": {},
   "source": [
    "In this model, we use the recommended weight from the literature. We can also run a GridSearch to find a better better hyperparameter for the weight."
   ]
  },
  {
   "cell_type": "code",
   "execution_count": 58,
   "metadata": {},
   "outputs": [
    {
     "data": {
      "text/plain": [
       "GridSearchCV(estimator=LogisticRegression(solver='liblinear'),\n",
       "             param_grid={'class_weight': [{0: 1, 1: 1000}, {0: 1, 1: 500},\n",
       "                                          {0: 1, 1: 250}, {0: 1, 1: 100},\n",
       "                                          {0: 1, 1: 10}]},\n",
       "             scoring='recall')"
      ]
     },
     "execution_count": 58,
     "metadata": {},
     "output_type": "execute_result"
    }
   ],
   "source": [
    "from sklearn.model_selection import GridSearchCV\n",
    "cost_model = LogisticRegression(solver='liblinear')\n",
    "weights = [{1:1000,0:1}, {1:500,0:1}, {1:250,0:1}, {1:100,0:1}, {1:10,0:1}]\n",
    "param_grid = dict(class_weight=weights)\n",
    "grid = GridSearchCV(estimator=cost_model, param_grid=param_grid, scoring='recall')\n",
    "grid.fit(X_train, y_train)"
   ]
  },
  {
   "cell_type": "code",
   "execution_count": 59,
   "metadata": {},
   "outputs": [
    {
     "name": "stdout",
     "output_type": "stream",
     "text": [
      " The best score is 0.9181585677749361, and the best weight is  {1: 1000, 0: 1}\n"
     ]
    }
   ],
   "source": [
    "print(f\" The best score is {grid.best_score_}, and the best weight is  {list((grid.best_params_).values())[0]}\")"
   ]
  },
  {
   "cell_type": "markdown",
   "metadata": {},
   "source": [
    "We will train a new model with the best weight obtained above. "
   ]
  },
  {
   "cell_type": "code",
   "execution_count": 60,
   "metadata": {},
   "outputs": [],
   "source": [
    "#train the model with the weight {0: 1000, 1: 1}\n",
    "weights={0:1, 1:1000}\n",
    "cs_model_1 = LogisticRegression(solver='liblinear', class_weight=weights, max_iter=1000) #cost senstive model\n",
    "result=regression_model(X,y, cs_model_1)"
   ]
  },
  {
   "cell_type": "code",
   "execution_count": 61,
   "metadata": {},
   "outputs": [
    {
     "name": "stdout",
     "output_type": "stream",
     "text": [
      "Confussion matrix for the training set:\n",
      "[[179660  10817]\n",
      " [    27    316]]\n",
      "Confussion matrix for the test set:\n",
      "[[88575  5263]\n",
      " [   11   138]]\n",
      "Overall scores:\n",
      "Training set precision_score    0.028384\n",
      "Training set recall_score       0.921283\n",
      "Test set precision_score        0.025551\n",
      "Test set recall_score           0.926174\n",
      "dtype: float64\n"
     ]
    }
   ],
   "source": [
    "#scores for the training set\n",
    "print(\"Confussion matrix for the training set:\")\n",
    "print(result[1])\n",
    "print(\"Confussion matrix for the test set:\")\n",
    "print(result[2])\n",
    "\n",
    "print(\"Overall scores:\")\n",
    "print(result[0])"
   ]
  },
  {
   "cell_type": "markdown",
   "metadata": {},
   "source": [
    "We see that while the recall score improves a little bit, the precision score is significantly dropped. Perhaps, we should stick with the recommended weight 556. "
   ]
  },
  {
   "cell_type": "markdown",
   "metadata": {},
   "source": [
    "# Part 4.2: Decision trees"
   ]
  },
  {
   "cell_type": "markdown",
   "metadata": {},
   "source": [
    "# Part 4.2.1: Standard decision trees"
   ]
  },
  {
   "cell_type": "markdown",
   "metadata": {},
   "source": [
    "In this section, we are going to use decision tree models for our classification problem. As before, let us do some\n",
    "experiments with some simpler models before working with the more complicated ones. "
   ]
  },
  {
   "cell_type": "code",
   "execution_count": 62,
   "metadata": {},
   "outputs": [],
   "source": [
    "#train our first decision tree model with max_depth=3\n",
    "tree_model = DecisionTreeClassifier(max_depth=3 )\n",
    "result=regression_model(X,y, tree_model)"
   ]
  },
  {
   "cell_type": "code",
   "execution_count": 63,
   "metadata": {},
   "outputs": [
    {
     "name": "stdout",
     "output_type": "stream",
     "text": [
      "Confussion matrix for the training set:\n",
      "[[190450     27]\n",
      " [   122    221]]\n",
      "Confussion matrix for the test set:\n",
      "[[93821    17]\n",
      " [   52    97]]\n",
      "Overall scores:\n",
      "Training set precision_score    0.891129\n",
      "Training set recall_score       0.644315\n",
      "Test set precision_score        0.850877\n",
      "Test set recall_score           0.651007\n",
      "dtype: float64\n"
     ]
    }
   ],
   "source": [
    "#confusion matrix for the training set\n",
    "print(\"Confussion matrix for the training set:\")\n",
    "print(result[1])\n",
    "\n",
    "#confusion matrix for the test set\n",
    "print(\"Confussion matrix for the test set:\")\n",
    "print(result[2])\n",
    "\n",
    "#overall scores\n",
    "print(\"Overall scores:\")\n",
    "print(result[0])"
   ]
  },
  {
   "cell_type": "markdown",
   "metadata": {},
   "source": [
    "As we can see, this model performs better than our previous logistic regression models. However, the recall score is still low. "
   ]
  },
  {
   "cell_type": "markdown",
   "metadata": {},
   "source": [
    "In the above model, we choose max_depth=3 as recommended in the literature. We can slowly change manually increase\n",
    "it to see whether the resulting model is better than the old ones. We will automate this process by the following function. "
   ]
  },
  {
   "cell_type": "code",
   "execution_count": 231,
   "metadata": {},
   "outputs": [
    {
     "name": "stdout",
     "output_type": "stream",
     "text": [
      "Confussion matrix for the training set:\n",
      "[[190451     26]\n",
      " [    71    272]]\n",
      "Confussion matrix for the test set:\n",
      "[[93818    20]\n",
      " [   34   115]]\n",
      "Overall scores:\n",
      "Training set precision_score         0.912752\n",
      "Training set recall_score            0.793003\n",
      "Training set area under the curve    0.849689\n",
      "Test set precision_score             0.851852\n",
      "Test set recall_score                0.771812\n",
      "Test set area under the curve        0.738979\n",
      "dtype: float64\n"
     ]
    }
   ],
   "source": [
    "#train our first decision tree model with max_depth=4\n",
    "tree_model = DecisionTreeClassifier(max_depth=4 )\n",
    "result=regression_model(X,y, tree_model)\n",
    "#confusion matrix for the training set\n",
    "print(\"Confussion matrix for the training set:\")\n",
    "print(result[1])\n",
    "\n",
    "#confusion matrix for the test set\n",
    "print(\"Confussion matrix for the test set:\")\n",
    "print(result[2])\n",
    "\n",
    "#overall scores\n",
    "print(\"Overall scores:\")\n",
    "print(result[0])"
   ]
  },
  {
   "cell_type": "markdown",
   "metadata": {},
   "source": [
    "We see that this new model with max_depth=4 performs better on both the training set and the test set. Let us take max_length=5."
   ]
  },
  {
   "cell_type": "code",
   "execution_count": 232,
   "metadata": {},
   "outputs": [
    {
     "name": "stdout",
     "output_type": "stream",
     "text": [
      "Confussion matrix for the training set:\n",
      "[[190463     14]\n",
      " [    63    280]]\n",
      "Confussion matrix for the test set:\n",
      "[[93818    20]\n",
      " [   29   120]]\n",
      "Overall scores:\n",
      "Training set precision_score         0.952381\n",
      "Training set recall_score            0.816327\n",
      "Training set area under the curve    0.864218\n",
      "Test set precision_score             0.857143\n",
      "Test set recall_score                0.805369\n",
      "Test set area under the curve        0.729023\n",
      "dtype: float64\n"
     ]
    }
   ],
   "source": [
    "#train our first decision tree model with max_depth=5\n",
    "tree_model = DecisionTreeClassifier(max_depth=5)\n",
    "result=regression_model(X,y, tree_model)\n",
    "#confusion matrix for the training set\n",
    "print(\"Confussion matrix for the training set:\")\n",
    "print(result[1])\n",
    "\n",
    "#confusion matrix for the test set\n",
    "print(\"Confussion matrix for the test set:\")\n",
    "print(result[2])\n",
    "\n",
    "#overall scores\n",
    "print(\"Overall scores:\")\n",
    "print(result[0])"
   ]
  },
  {
   "cell_type": "markdown",
   "metadata": {},
   "source": [
    "This is slightly better than the previous ones. Finally, let us take max_depth=6."
   ]
  },
  {
   "cell_type": "code",
   "execution_count": 233,
   "metadata": {},
   "outputs": [
    {
     "name": "stdout",
     "output_type": "stream",
     "text": [
      "Confussion matrix for the training set:\n",
      "[[190468      9]\n",
      " [    60    283]]\n",
      "Confussion matrix for the test set:\n",
      "[[93819    19]\n",
      " [   26   123]]\n",
      "Overall scores:\n",
      "Training set precision_score         0.969178\n",
      "Training set recall_score            0.825073\n",
      "Training set area under the curve    0.892054\n",
      "Test set precision_score             0.866197\n",
      "Test set recall_score                0.825503\n",
      "Test set area under the curve        0.773181\n",
      "dtype: float64\n"
     ]
    }
   ],
   "source": [
    "#train our first decision tree model with max_depth=5\n",
    "tree_model = DecisionTreeClassifier(max_depth=6)\n",
    "result=regression_model(X,y, tree_model)\n",
    "#confusion matrix for the training set\n",
    "print(\"Confussion matrix for the training set:\")\n",
    "print(result[1])\n",
    "\n",
    "#confusion matrix for the test set\n",
    "print(\"Confussion matrix for the test set:\")\n",
    "print(result[2])\n",
    "\n",
    "#overall scores\n",
    "print(\"Overall scores:\")\n",
    "print(result[0])"
   ]
  },
  {
   "cell_type": "markdown",
   "metadata": {},
   "source": [
    "This performs slightly better on the training set but performs almost the same on the test set. Let us try one more \n",
    "max_depth=7"
   ]
  },
  {
   "cell_type": "code",
   "execution_count": 234,
   "metadata": {},
   "outputs": [
    {
     "name": "stdout",
     "output_type": "stream",
     "text": [
      "Confussion matrix for the training set:\n",
      "[[190473      4]\n",
      " [    61    282]]\n",
      "Confussion matrix for the test set:\n",
      "[[93818    20]\n",
      " [   30   119]]\n",
      "Overall scores:\n",
      "Training set precision_score         0.986014\n",
      "Training set recall_score            0.822157\n",
      "Training set area under the curve    0.871668\n",
      "Test set precision_score             0.856115\n",
      "Test set recall_score                0.798658\n",
      "Test set area under the curve        0.711236\n",
      "dtype: float64\n"
     ]
    }
   ],
   "source": [
    "#train our first decision tree model with max_depth=7\n",
    "tree_model = DecisionTreeClassifier(max_depth=7)\n",
    "result=regression_model(X,y, tree_model)\n",
    "#confusion matrix for the training set\n",
    "print(\"Confussion matrix for the training set:\")\n",
    "print(result[1])\n",
    "\n",
    "#confusion matrix for the test set\n",
    "print(\"Confussion matrix for the test set:\")\n",
    "print(result[2])\n",
    "\n",
    "#overall scores\n",
    "print(\"Overall scores:\")\n",
    "print(result[0])"
   ]
  },
  {
   "cell_type": "markdown",
   "metadata": {},
   "source": [
    "Over all, it seems that setting max_depth=7 does not really improve the old model with max_depth=6 (in fact, we can even argue that doing so would result in overfitting the training set). For this reason, we will take max_depth = 6 for our model."
   ]
  },
  {
   "cell_type": "markdown",
   "metadata": {},
   "source": [
    "# Part 4.2.2: Cost-Senstive Decision trees"
   ]
  },
  {
   "cell_type": "markdown",
   "metadata": {},
   "source": [
    "As discussed in the logistic regression models section, our data is really skewed. When we build a decision tree, the decision to split data depends on information gain-which is defined using gini index (or other similar measures like entropy.) Recall that the gini index is defined as \n",
    "\n",
    "$$g= \\sum_{i=1}^{K} (p_i-p_i^2)=1-\\sum_{i=1}^{K} p_i^2,$$\n",
    "where $K$ is the number of classes and $p_i$ is the proportion of class $i$ at a node. If we look into this formula, we see that all classes are considered to be the same. Since our data is skewed, it is better to put higher weights on the minority class. Let us try this idea out. First, let us try the heuristic weight as in logistic regression."
   ]
  },
  {
   "cell_type": "code",
   "execution_count": 64,
   "metadata": {},
   "outputs": [
    {
     "name": "stdout",
     "output_type": "stream",
     "text": [
      "Confussion matrix for the training set:\n",
      "[[183402   7075]\n",
      " [    14    329]]\n",
      "Confussion matrix for the test set:\n",
      "[[90376  3462]\n",
      " [   16   133]]\n",
      "Overall scores:\n",
      "Training set precision_score    0.044435\n",
      "Training set recall_score       0.959184\n",
      "Test set precision_score        0.036996\n",
      "Test set recall_score           0.892617\n",
      "dtype: float64\n"
     ]
    }
   ],
   "source": [
    "#train a tree model for weights = {0:1.0, 1:556.0}\n",
    "weights={1: 556, 0: 1}\n",
    "cs_tree_model = DecisionTreeClassifier(max_depth=5, class_weight=weights)\n",
    "result=regression_model(X,y, cs_tree_model)\n",
    "#confusion matrix for the training set\n",
    "print(\"Confussion matrix for the training set:\")\n",
    "print(result[1])\n",
    "\n",
    "#confusion matrix for the test set\n",
    "print(\"Confussion matrix for the test set:\")\n",
    "print(result[2])\n",
    "\n",
    "#overall scores\n",
    "print(\"Overall scores:\")\n",
    "print(result[0])"
   ]
  },
  {
   "cell_type": "markdown",
   "metadata": {},
   "source": [
    "The recall scores is pretty good. Unfortunately, the precision score is still rather bad. Let us use another weight. "
   ]
  },
  {
   "cell_type": "code",
   "execution_count": 65,
   "metadata": {},
   "outputs": [
    {
     "name": "stdout",
     "output_type": "stream",
     "text": [
      "Confussion matrix for the training set:\n",
      "[[189691    786]\n",
      " [    31    312]]\n",
      "Confussion matrix for the test set:\n",
      "[[93466   372]\n",
      " [   21   128]]\n",
      "Overall scores:\n",
      "Training set precision_score    0.284153\n",
      "Training set recall_score       0.909621\n",
      "Test set precision_score        0.256000\n",
      "Test set recall_score           0.859060\n",
      "dtype: float64\n"
     ]
    }
   ],
   "source": [
    "#train a tree model for weights = {0:1.0, 1:100.0}\n",
    "weights={1: 100, 0: 1}\n",
    "cs_tree_model = DecisionTreeClassifier(max_depth=5, class_weight=weights)\n",
    "result=regression_model(X,y, cs_tree_model)\n",
    "#confusion matrix for the training set\n",
    "print(\"Confussion matrix for the training set:\")\n",
    "print(result[1])\n",
    "\n",
    "#confusion matrix for the test set\n",
    "print(\"Confussion matrix for the test set:\")\n",
    "print(result[2])\n",
    "\n",
    "#overall scores\n",
    "print(\"Overall scores:\")\n",
    "print(result[0])"
   ]
  },
  {
   "cell_type": "markdown",
   "metadata": {},
   "source": [
    "We see that while the recall scores are not as good as in the previous model, the false positive errors are significantly reduced. \n"
   ]
  },
  {
   "cell_type": "markdown",
   "metadata": {},
   "source": [
    "We can also do a gridsearch to find a better weight."
   ]
  },
  {
   "cell_type": "code",
   "execution_count": 142,
   "metadata": {},
   "outputs": [
    {
     "data": {
      "text/plain": [
       "GridSearchCV(estimator=DecisionTreeClassifier(max_depth=5),\n",
       "             param_grid={'class_weight': [{0: 1, 1: 1024}, {0: 1, 1: 556},\n",
       "                                          {0: 1, 1: 250}, {0: 1, 1: 100},\n",
       "                                          {0: 1, 1: 10}, {0: 1, 1: 1},\n",
       "                                          {0: 10, 1: 1}, {1: 100}]},\n",
       "             scoring='recall')"
      ]
     },
     "execution_count": 142,
     "metadata": {},
     "output_type": "execute_result"
    }
   ],
   "source": [
    "#gridsearch on decision tree\n",
    "from sklearn.model_selection import GridSearchCV\n",
    "cost_tree_model = DecisionTreeClassifier(max_depth=5)\n",
    "weights = [{1:1024,0:1}, {1:556,0:1}, {1:250,0:1}, {1:100,0:1}, {1:10,0:1}, {1:1, 0:1}, {1:1, 0:10}, {1:1, 0:100}]\n",
    "param_tree_grid = dict(class_weight=weights)\n",
    "tree_grid = GridSearchCV(estimator=cost_tree_model, param_grid=param_tree_grid, scoring='recall')\n",
    "tree_grid.fit(X_train, y_train)"
   ]
  },
  {
   "cell_type": "code",
   "execution_count": 143,
   "metadata": {},
   "outputs": [
    {
     "name": "stdout",
     "output_type": "stream",
     "text": [
      "The best weight is  {1: 1024, 0: 1}\n"
     ]
    }
   ],
   "source": [
    "print(f\"The best weight is  {list((tree_grid.best_params_).values())[0]}\")"
   ]
  },
  {
   "cell_type": "code",
   "execution_count": 66,
   "metadata": {},
   "outputs": [
    {
     "name": "stdout",
     "output_type": "stream",
     "text": [
      "Confussion matrix for the training set:\n",
      "[[178615  11862]\n",
      " [     9    334]]\n",
      "Confussion matrix for the test set:\n",
      "[[87891  5947]\n",
      " [   15   134]]\n",
      "Overall scores:\n",
      "Training set precision_score    0.027386\n",
      "Training set recall_score       0.973761\n",
      "Test set precision_score        0.022036\n",
      "Test set recall_score           0.899329\n",
      "dtype: float64\n"
     ]
    }
   ],
   "source": [
    "#train the model on the new weight {1:1024, 0:1}\n",
    "weights={1: 1024, 0: 1}\n",
    "cs_tree_model = DecisionTreeClassifier(max_depth=5, class_weight=weights)\n",
    "result=regression_model(X,y, cs_tree_model)\n",
    "#confusion matrix for the training set\n",
    "print(\"Confussion matrix for the training set:\")\n",
    "print(result[1])\n",
    "\n",
    "#confusion matrix for the test set\n",
    "print(\"Confussion matrix for the test set:\")\n",
    "print(result[2])\n",
    "\n",
    "#overall scores\n",
    "print(\"Overall scores:\")\n",
    "print(result[0])"
   ]
  },
  {
   "cell_type": "markdown",
   "metadata": {},
   "source": [
    "This model performance is really good in maximizing recall scores. However, as we can see, its precision scores are poor. "
   ]
  },
  {
   "cell_type": "markdown",
   "metadata": {},
   "source": [
    "# Part 4.3: Support vector machine models"
   ]
  },
  {
   "cell_type": "markdown",
   "metadata": {},
   "source": [
    "Another type of model that we will try is the support vector machine models. "
   ]
  },
  {
   "cell_type": "code",
   "execution_count": 68,
   "metadata": {},
   "outputs": [
    {
     "name": "stderr",
     "output_type": "stream",
     "text": [
      "/Users/hapham/opt/anaconda3/lib/python3.8/site-packages/sklearn/svm/_base.py:976: ConvergenceWarning: Liblinear failed to converge, increase the number of iterations.\n",
      "  warnings.warn(\"Liblinear failed to converge, increase \"\n"
     ]
    },
    {
     "name": "stdout",
     "output_type": "stream",
     "text": [
      "Confussion matrix for the training set:\n",
      "[[190451     26]\n",
      " [   153    190]]\n",
      "Confussion matrix for the test set:\n",
      "[[93825    13]\n",
      " [   61    88]]\n",
      "Overall scores:\n",
      "Training set precision_score    0.879630\n",
      "Training set recall_score       0.553936\n",
      "Test set precision_score        0.871287\n",
      "Test set recall_score           0.590604\n",
      "dtype: float64\n"
     ]
    }
   ],
   "source": [
    "#train a support vector machine model\n",
    "svm_model=svm.LinearSVC(max_iter=5000)\n",
    "result=regression_model(X,y, svm_model)\n",
    "#confusion matrix for the training set\n",
    "print(\"Confussion matrix for the training set:\")\n",
    "print(result[1])\n",
    "\n",
    "#confusion matrix for the test set\n",
    "print(\"Confussion matrix for the test set:\")\n",
    "print(result[2])\n",
    "\n",
    "#overall scores\n",
    "print(\"Overall scores:\")\n",
    "print(result[0])"
   ]
  },
  {
   "cell_type": "markdown",
   "metadata": {},
   "source": [
    "We see that the precision scores are too low: we miss a rather big number of fraud transactions. "
   ]
  },
  {
   "cell_type": "markdown",
   "metadata": {},
   "source": [
    "As with logistic regression and decision tree models, we can also consider SVC models with weights. We start with the heuristic weights. "
   ]
  },
  {
   "cell_type": "code",
   "execution_count": 70,
   "metadata": {},
   "outputs": [
    {
     "name": "stderr",
     "output_type": "stream",
     "text": [
      "/Users/hapham/opt/anaconda3/lib/python3.8/site-packages/sklearn/svm/_base.py:976: ConvergenceWarning: Liblinear failed to converge, increase the number of iterations.\n",
      "  warnings.warn(\"Liblinear failed to converge, increase \"\n"
     ]
    },
    {
     "name": "stdout",
     "output_type": "stream",
     "text": [
      "Confussion matrix for the training set:\n",
      "[[190385     92]\n",
      " [    71    272]]\n",
      "Confussion matrix for the test set:\n",
      "[[93799    39]\n",
      " [   27   122]]\n",
      "Overall scores:\n",
      "Training set precision_score    0.747253\n",
      "Training set recall_score       0.793003\n",
      "Test set precision_score        0.757764\n",
      "Test set recall_score           0.818792\n",
      "dtype: float64\n"
     ]
    }
   ],
   "source": [
    "#train a SVC model with heuristic weights\n",
    "weights = {0:1.0, 1:556}\n",
    "cs_svc_model = svm.LinearSVC(class_weight=weights)\n",
    "result=regression_model(X,y, cs_svc_model)\n",
    "#confusion matrix for the training set\n",
    "print(\"Confussion matrix for the training set:\")\n",
    "print(result[1])\n",
    "\n",
    "#confusion matrix for the test set\n",
    "print(\"Confussion matrix for the test set:\")\n",
    "print(result[2])\n",
    "\n",
    "#overall scores\n",
    "print(\"Overall scores:\")\n",
    "print(result[0])"
   ]
  },
  {
   "cell_type": "markdown",
   "metadata": {},
   "source": [
    "We see that the recall score is still rather low. Let us do a Gridsearch CV to find a better parameter for the wight."
   ]
  },
  {
   "cell_type": "code",
   "execution_count": 165,
   "metadata": {},
   "outputs": [
    {
     "data": {
      "text/plain": [
       "GridSearchCV(estimator=LinearSVC(),\n",
       "             param_grid={'class_weight': [{0: 1, 1: 1024}, {0: 1, 1: 556},\n",
       "                                          {0: 1, 1: 250}, {0: 1, 1: 100},\n",
       "                                          {0: 1, 1: 10}, {0: 1, 1: 1},\n",
       "                                          {0: 10, 1: 1}, {1: 100}]},\n",
       "             scoring='recall')"
      ]
     },
     "execution_count": 165,
     "metadata": {},
     "output_type": "execute_result"
    }
   ],
   "source": [
    "import warnings\n",
    "warnings.filterwarnings('ignore')\n",
    "\n",
    "from sklearn.model_selection import GridSearchCV\n",
    "cost_svm_model = svm.LinearSVC()\n",
    "weights = [{1:1024,0:1}, {1:556,0:1}, {1:250,0:1}, {1:100,0:1}, {1:10,0:1}, {1:1, 0:1}, {1:1, 0:10}, {1:1, 0:100}]\n",
    "param_svm_grid = dict(class_weight=weights)\n",
    "svm_grid = GridSearchCV(estimator=cost_svm_model, param_grid=param_svm_grid, scoring='recall')\n",
    "svm_grid.fit(X_train, y_train)"
   ]
  },
  {
   "cell_type": "code",
   "execution_count": 166,
   "metadata": {},
   "outputs": [
    {
     "name": "stdout",
     "output_type": "stream",
     "text": [
      "The best weight is  {1: 1024, 0: 1}\n"
     ]
    }
   ],
   "source": [
    "print(f\"The best weight is  {list((svm_grid.best_params_).values())[0]}\")"
   ]
  },
  {
   "cell_type": "code",
   "execution_count": 71,
   "metadata": {},
   "outputs": [
    {
     "name": "stderr",
     "output_type": "stream",
     "text": [
      "/Users/hapham/opt/anaconda3/lib/python3.8/site-packages/sklearn/svm/_base.py:976: ConvergenceWarning: Liblinear failed to converge, increase the number of iterations.\n",
      "  warnings.warn(\"Liblinear failed to converge, increase \"\n"
     ]
    },
    {
     "name": "stdout",
     "output_type": "stream",
     "text": [
      "Confussion matrix for the training set:\n",
      "[[190384     93]\n",
      " [    72    271]]\n",
      "Confussion matrix for the test set:\n",
      "[[93801    37]\n",
      " [   27   122]]\n",
      "Overall scores:\n",
      "Training set precision_score    0.744505\n",
      "Training set recall_score       0.790087\n",
      "Test set precision_score        0.767296\n",
      "Test set recall_score           0.818792\n",
      "dtype: float64\n"
     ]
    }
   ],
   "source": [
    "weights = {0:1.0, 1:1024}\n",
    "new_cs_svc_model = svm.LinearSVC(class_weight=weights)\n",
    "result=regression_model(X,y, new_cs_svc_model)\n",
    "#confusion matrix for the training set\n",
    "print(\"Confussion matrix for the training set:\")\n",
    "print(result[1])\n",
    "\n",
    "#confusion matrix for the test set\n",
    "print(\"Confussion matrix for the test set:\")\n",
    "print(result[2])\n",
    "\n",
    "#overall scores\n",
    "print(\"Overall scores:\")\n",
    "print(result[0])"
   ]
  },
  {
   "cell_type": "markdown",
   "metadata": {},
   "source": [
    "We see that even with this new weight, the model still performs not so well with respect to the recall score. "
   ]
  },
  {
   "cell_type": "markdown",
   "metadata": {},
   "source": [
    "# Part 4.4: The SMOTE (Synthetic Minority Over-sampling Technique) algorithm."
   ]
  },
  {
   "cell_type": "markdown",
   "metadata": {},
   "source": [
    "Another possible way to deal with skewed data is to resample the data so that we have balanced classes. For details about this approach, we refer the reader to the following documentation\n",
    "\n",
    "https://imbalanced-learn.readthedocs.io/en/stable/over_sampling.html#smote-adasyn\n",
    "\n",
    "\n"
   ]
  },
  {
   "cell_type": "code",
   "execution_count": 72,
   "metadata": {},
   "outputs": [],
   "source": [
    "#resample the training set\n",
    "from imblearn.over_sampling import SMOTE \n",
    "smote = SMOTE(random_state = 2) \n",
    "X_train_res, y_train_res = smote.fit_sample(X_train, y_train.ravel()) \n"
   ]
  },
  {
   "cell_type": "code",
   "execution_count": 73,
   "metadata": {},
   "outputs": [
    {
     "name": "stdout",
     "output_type": "stream",
     "text": [
      "(array([0, 1]), array([190477, 190477]))\n"
     ]
    }
   ],
   "source": [
    "#check that the training set is balanced now\n",
    "counts_elements = np.unique(y_train_res, return_counts=True)\n",
    "print(counts_elements)"
   ]
  },
  {
   "cell_type": "markdown",
   "metadata": {},
   "source": [
    "We can then train a logistic regression model on the training set\n"
   ]
  },
  {
   "cell_type": "code",
   "execution_count": 74,
   "metadata": {},
   "outputs": [
    {
     "data": {
      "text/plain": [
       "LogisticRegression()"
      ]
     },
     "execution_count": 74,
     "metadata": {},
     "output_type": "execute_result"
    }
   ],
   "source": [
    "#train a logistic model with the resampled training set\n",
    "logit_res=LogisticRegression()\n",
    "logit_res.fit(X_train_res,y_train_res)"
   ]
  },
  {
   "cell_type": "code",
   "execution_count": 75,
   "metadata": {},
   "outputs": [],
   "source": [
    "#use the above model to predict\n",
    "train_prediction_res=logit_res.predict(X_train_res)\n",
    "test_prediction_res=logit_res.predict(X_test)"
   ]
  },
  {
   "cell_type": "code",
   "execution_count": 76,
   "metadata": {},
   "outputs": [
    {
     "name": "stdout",
     "output_type": "stream",
     "text": [
      "Confussion matrix for the training set:\n",
      "[[185578   4899]\n",
      " [ 14969 175508]]\n",
      "Classification report for the training set:\n",
      "              precision    recall  f1-score   support\n",
      "\n",
      "           0       0.93      0.97      0.95    190477\n",
      "           1       0.97      0.92      0.95    190477\n",
      "\n",
      "    accuracy                           0.95    380954\n",
      "   macro avg       0.95      0.95      0.95    380954\n",
      "weighted avg       0.95      0.95      0.95    380954\n",
      "\n"
     ]
    }
   ],
   "source": [
    "#Evaluate this model on the training set \n",
    "print(\"Confussion matrix for the training set:\")\n",
    "print(sklearn.metrics.confusion_matrix(y_train_res, train_prediction_res))\n",
    "print(\"Classification report for the training set:\")\n",
    "print(sklearn.metrics.classification_report(y_train_res, train_prediction_res))"
   ]
  },
  {
   "cell_type": "markdown",
   "metadata": {},
   "source": [
    "This is pretty good. Let us evaluate this model using the test set. "
   ]
  },
  {
   "cell_type": "code",
   "execution_count": 77,
   "metadata": {},
   "outputs": [
    {
     "name": "stdout",
     "output_type": "stream",
     "text": [
      "Confussion matrix for the test set:\n",
      "[[91407  2431]\n",
      " [   12   137]]\n",
      "Classification report for the test set:\n",
      "              precision    recall  f1-score   support\n",
      "\n",
      "           0       1.00      0.97      0.99     93838\n",
      "           1       0.05      0.92      0.10       149\n",
      "\n",
      "    accuracy                           0.97     93987\n",
      "   macro avg       0.53      0.95      0.54     93987\n",
      "weighted avg       1.00      0.97      0.99     93987\n",
      "\n"
     ]
    }
   ],
   "source": [
    "#Evaluate this model on the training set \n",
    "print(\"Confussion matrix for the test set:\")\n",
    "print(sklearn.metrics.confusion_matrix(y_test, test_prediction_res))\n",
    "print(\"Classification report for the test set:\")\n",
    "print(sklearn.metrics.classification_report(y_test, test_prediction_res))"
   ]
  },
  {
   "cell_type": "markdown",
   "metadata": {},
   "source": [
    "Argurably, this is the best model so far. "
   ]
  },
  {
   "cell_type": "markdown",
   "metadata": {},
   "source": [
    "We can also test the above strategy using decision tree models."
   ]
  },
  {
   "cell_type": "code",
   "execution_count": 80,
   "metadata": {},
   "outputs": [],
   "source": [
    "#smote technique and decision tree\n",
    "tree_res=DecisionTreeClassifier(max_depth=5)\n",
    "tree_res.fit(X_train_res,y_train_res)\n",
    "tree_train_prediction_res=tree_res.predict(X_train_res)\n",
    "tree_test_prediction_res=tree_res.predict(X_test)"
   ]
  },
  {
   "cell_type": "code",
   "execution_count": 81,
   "metadata": {},
   "outputs": [
    {
     "name": "stdout",
     "output_type": "stream",
     "text": [
      "Confussion matrix for the training set:\n",
      "[[182797   7680]\n",
      " [  8947 181530]]\n",
      "Classification report for the test set:\n",
      "              precision    recall  f1-score   support\n",
      "\n",
      "           0       0.95      0.96      0.96    190477\n",
      "           1       0.96      0.95      0.96    190477\n",
      "\n",
      "    accuracy                           0.96    380954\n",
      "   macro avg       0.96      0.96      0.96    380954\n",
      "weighted avg       0.96      0.96      0.96    380954\n",
      "\n"
     ]
    }
   ],
   "source": [
    "#Evaluate this model on the training set \n",
    "print(\"Confussion matrix for the training set:\")\n",
    "print(sklearn.metrics.confusion_matrix(y_train_res, tree_train_prediction_res))\n",
    "print(\"Classification report for the test set:\")\n",
    "print(sklearn.metrics.classification_report(y_train_res, tree_train_prediction_res))"
   ]
  },
  {
   "cell_type": "code",
   "execution_count": 82,
   "metadata": {},
   "outputs": [
    {
     "name": "stdout",
     "output_type": "stream",
     "text": [
      "Confussion matrix for the training set:\n",
      "[[90017  3821]\n",
      " [   13   136]]\n",
      "Classification report for the test set:\n",
      "              precision    recall  f1-score   support\n",
      "\n",
      "           0       1.00      0.96      0.98     93838\n",
      "           1       0.03      0.91      0.07       149\n",
      "\n",
      "    accuracy                           0.96     93987\n",
      "   macro avg       0.52      0.94      0.52     93987\n",
      "weighted avg       1.00      0.96      0.98     93987\n",
      "\n"
     ]
    }
   ],
   "source": [
    "#Evaluate this model on the training set \n",
    "print(\"Confussion matrix for the training set:\")\n",
    "print(sklearn.metrics.confusion_matrix(y_test, tree_test_prediction_res))\n",
    "print(\"Classification report for the test set:\")\n",
    "print(sklearn.metrics.classification_report(y_test, tree_test_prediction_res))"
   ]
  },
  {
   "cell_type": "markdown",
   "metadata": {},
   "source": [
    "We see that this model performs better than cost-sensitive logistic regression and cost-senstive decision tree. However, it performs worse than the logistic model with SMOTE. "
   ]
  },
  {
   "cell_type": "markdown",
   "metadata": {},
   "source": [
    "# Part 4.5: Autoencoders"
   ]
  },
  {
   "cell_type": "markdown",
   "metadata": {},
   "source": [
    "In the previous sections, we consider our problem as a classification problem. Let us take a different perspective: fraud transactions are abnormal and therefore, they should have different \"signals\". In other words, we can think about our problem as a anomaly detection problem. \n",
    "\n",
    "From this perspective, we can use <a href=\"https://en.wikipedia.org/wiki/Autoencoder#:~:text=An%20autoencoder%20is%20a%20type,to%20ignore%20signal%20%E2%80%9Cnoise%E2%80%9D.\"> autoencoder </a> to solve our problem. \n",
    "\n",
    "Roughly speaking, we will train our model only on the normal transactions. Once this is done, our model will learn what is normal and what is fraudulent. Note that our training set and test set are changed in part 4.4, so we load them again. "
   ]
  },
  {
   "cell_type": "code",
   "execution_count": 18,
   "metadata": {},
   "outputs": [],
   "source": [
    "X_train, X_test = train_test_split(df, test_size=0.33, random_state=42)\n",
    "\n",
    "#select normal transactions to train our autoencoder model \n",
    "X_train = X_train[X_train['Class'] == 0]\n",
    "X_train = X_train.drop(['Class', 'Time'], axis=1)\n",
    "\n",
    "#the test set\n",
    "y_test = X_test['Class']\n",
    "X_test = X_test.drop(['Class', 'Time'], axis=1)\n",
    "X_train = X_train.values\n",
    "X_test = X_test.values"
   ]
  },
  {
   "cell_type": "markdown",
   "metadata": {},
   "source": [
    "We need to compute the number of features because this number is the number of nerons in the input layer of our neural network. "
   ]
  },
  {
   "cell_type": "code",
   "execution_count": 19,
   "metadata": {},
   "outputs": [
    {
     "data": {
      "text/plain": [
       "(190477, 29)"
      ]
     },
     "execution_count": 19,
     "metadata": {},
     "output_type": "execute_result"
    }
   ],
   "source": [
    "X_train.shape"
   ]
  },
  {
   "cell_type": "markdown",
   "metadata": {},
   "source": [
    "We will build a neural network with number of units 29, 15, 7, 15, 29.  "
   ]
  },
  {
   "cell_type": "code",
   "execution_count": 20,
   "metadata": {},
   "outputs": [],
   "source": [
    "input_layer = Input(shape=(29, ))\n",
    "encoder = Dense(15, activation=\"tanh\", \n",
    "                activity_regularizer=regularizers.l1(10e-5))(input_layer)\n",
    "encoder = Dense(7, activation=\"relu\")(encoder)\n",
    "decoder = Dense(15, activation='tanh')(encoder)\n",
    "decoder = Dense(29, activation='relu')(decoder)\n",
    "autoencoder = Model(inputs=input_layer, outputs=decoder)"
   ]
  },
  {
   "cell_type": "markdown",
   "metadata": {},
   "source": [
    "We then train this autoencoder model with 100 epoches and batch_size=64. "
   ]
  },
  {
   "cell_type": "code",
   "execution_count": 22,
   "metadata": {},
   "outputs": [],
   "source": [
    "autoencoder = load_model('model.h5')"
   ]
  },
  {
   "cell_type": "code",
   "execution_count": 24,
   "metadata": {},
   "outputs": [
    {
     "data": {
      "image/png": "[encoded data removed]",
      "text/plain": [
       "<Figure size 900x288 with 1 Axes>"
      ]
     },
     "metadata": {
      "needs_background": "light"
     },
     "output_type": "display_data"
    }
   ],
   "source": [
    "figsize(12.5, 4)\n",
    "plt.plot(history['loss'])\n",
    "plt.plot(history['val_loss'])\n",
    "plt.title('model loss')\n",
    "plt.ylabel('MSE loss')\n",
    "plt.xlabel('epoch')\n",
    "plt.legend(['train', 'test'], loc='upper right');"
   ]
  },
  {
   "cell_type": "markdown",
   "metadata": {},
   "source": [
    "We see that the reconstruction errors on the training set and the test set do converge. Le us use this model to make predictions. "
   ]
  },
  {
   "cell_type": "code",
   "execution_count": 28,
   "metadata": {},
   "outputs": [
    {
     "data": {
      "text/html": [
       "<div>\n",
       "<style scoped>\n",
       "    .dataframe tbody tr th:only-of-type {\n",
       "        vertical-align: middle;\n",
       "    }\n",
       "\n",
       "    .dataframe tbody tr th {\n",
       "        vertical-align: top;\n",
       "    }\n",
       "\n",
       "    .dataframe thead tr th {\n",
       "        text-align: left;\n",
       "    }\n",
       "\n",
       "    .dataframe thead tr:last-of-type th {\n",
       "        text-align: right;\n",
       "    }\n",
       "</style>\n",
       "<table border=\"1\" class=\"dataframe\">\n",
       "  <thead>\n",
       "    <tr>\n",
       "      <th></th>\n",
       "      <th colspan=\"8\" halign=\"left\">reconstruction_error</th>\n",
       "    </tr>\n",
       "    <tr>\n",
       "      <th></th>\n",
       "      <th>count</th>\n",
       "      <th>mean</th>\n",
       "      <th>std</th>\n",
       "      <th>min</th>\n",
       "      <th>25%</th>\n",
       "      <th>50%</th>\n",
       "      <th>75%</th>\n",
       "      <th>max</th>\n",
       "    </tr>\n",
       "    <tr>\n",
       "      <th>true_class</th>\n",
       "      <th></th>\n",
       "      <th></th>\n",
       "      <th></th>\n",
       "      <th></th>\n",
       "      <th></th>\n",
       "      <th></th>\n",
       "      <th></th>\n",
       "      <th></th>\n",
       "    </tr>\n",
       "  </thead>\n",
       "  <tbody>\n",
       "    <tr>\n",
       "      <th>0</th>\n",
       "      <td>93838.0</td>\n",
       "      <td>0.662603</td>\n",
       "      <td>2.570982</td>\n",
       "      <td>0.025559</td>\n",
       "      <td>0.221924</td>\n",
       "      <td>0.362749</td>\n",
       "      <td>0.600577</td>\n",
       "      <td>229.167214</td>\n",
       "    </tr>\n",
       "    <tr>\n",
       "      <th>1</th>\n",
       "      <td>149.0</td>\n",
       "      <td>31.368138</td>\n",
       "      <td>42.303710</td>\n",
       "      <td>0.121273</td>\n",
       "      <td>4.604745</td>\n",
       "      <td>11.435481</td>\n",
       "      <td>58.065958</td>\n",
       "      <td>259.514038</td>\n",
       "    </tr>\n",
       "  </tbody>\n",
       "</table>\n",
       "</div>"
      ],
      "text/plain": [
       "           reconstruction_error                                            \\\n",
       "                          count       mean        std       min       25%   \n",
       "true_class                                                                  \n",
       "0                       93838.0   0.662603   2.570982  0.025559  0.221924   \n",
       "1                         149.0  31.368138  42.303710  0.121273  4.604745   \n",
       "\n",
       "                                              \n",
       "                  50%        75%         max  \n",
       "true_class                                    \n",
       "0            0.362749   0.600577  229.167214  \n",
       "1           11.435481  58.065958  259.514038  "
      ]
     },
     "execution_count": 28,
     "metadata": {},
     "output_type": "execute_result"
    }
   ],
   "source": [
    "#prediction on the test set\n",
    "predictions = autoencoder.predict(X_test) \n",
    "\n",
    "#compute the mean square error on the test set \n",
    "mse = np.mean(np.power(X_test - predictions, 2), axis=1)\n",
    "\n",
    "error = pd.DataFrame({'reconstruction_error': mse,\n",
    "                        'true_class': y_test})\n",
    "\n",
    "#reconstruction error for each class \n",
    "error.groupby('true_class').describe()"
   ]
  },
  {
   "cell_type": "markdown",
   "metadata": {},
   "source": [
    "We see clearly that the reconstruction errors for the fraud transactions are much higher than the the ones from normal transactions. This suggests that our model has learned to distinguish these two types of transactions. "
   ]
  },
  {
   "cell_type": "markdown",
   "metadata": {},
   "source": [
    "What should be the threshold to decide whether a transaction is fraud or normal? Let us the plot the precision and recall scores for different thresholds. "
   ]
  },
  {
   "cell_type": "code",
   "execution_count": 87,
   "metadata": {},
   "outputs": [
    {
     "data": {
      "image/png": "[encoded data removed]",
      "text/plain": [
       "<Figure size 900x432 with 1 Axes>"
      ]
     },
     "metadata": {
      "needs_background": "light"
     },
     "output_type": "display_data"
    }
   ],
   "source": [
    "figsize(12.5, 6)\n",
    "precision, recall, threshold = precision_recall_curve(error['true_class'], error['reconstruction_error'])\n",
    "plt.plot(threshold, recall[1:], label='Recall score')\n",
    "plt.plot(threshold, precision[1:], label='Recall score')\n",
    "plt.vlines(threshold[83000], 0,1, linestyle='--', color='r', label='thresshold=2.08')\n",
    "plt.vlines(threshold[84000], 0, 1.0, linestyle='--', color='black', label='thresshold=2.96')\n",
    "plt.xlabel('threshold')\n",
    "plt.xlim(0,50)\n",
    "plt.title('Precision-Recall for different thresholds')\n",
    "plt.legend()\n",
    "plt.show()"
   ]
  },
  {
   "cell_type": "markdown",
   "metadata": {},
   "source": [
    "As we can see from this plot, to keep our recall score high, we should use a small threshold. As mentioned above, a small threshold would give low precision score. There is certainly a trade of here, "
   ]
  },
  {
   "cell_type": "markdown",
   "metadata": {},
   "source": [
    "As we can clearly see, there is a trade-offs between precision and recall. In our previous models, we already achieved recall scores of at least 90%. Therefore, it is reasonable to expect this new model should at least have that score as well. We will take the threshold to be 2.08."
   ]
  },
  {
   "cell_type": "code",
   "execution_count": 98,
   "metadata": {},
   "outputs": [
    {
     "data": {
      "image/png": "[encoded data removed]",
      "text/plain": [
       "<Figure size 432x432 with 2 Axes>"
      ]
     },
     "metadata": {
      "needs_background": "light"
     },
     "output_type": "display_data"
    }
   ],
   "source": [
    "threshold=2.08\n",
    "y_pred = [1 if e > threshold else 0 for e in error['reconstruction_error'].values]\n",
    "conf_matrix = sklearn.metrics.confusion_matrix(error['true_class'], y_pred)\n",
    "plt.figure(figsize=(6, 6))\n",
    "sns.heatmap(conf_matrix, annot=True, fmt='d') #xticklabels=LABELS, yticklabels=LABELS, annot=True, fmt=\"d\");\n",
    "plt.title(\"Confusion matrix\")\n",
    "plt.ylabel('True class')\n",
    "plt.xlabel('Predicted class')\n",
    "plt.show()"
   ]
  },
  {
   "cell_type": "code",
   "execution_count": 117,
   "metadata": {},
   "outputs": [
    {
     "data": {
      "image/png": "[encoded data removed]",
      "text/plain": [
       "<Figure size 900x432 with 4 Axes>"
      ]
     },
     "metadata": {
      "needs_background": "light"
     },
     "output_type": "display_data"
    },
    {
     "ename": "NameError",
     "evalue": "name 'result' is not defined",
     "output_type": "error",
     "traceback": [
      "\u001b[0;31m---------------------------------------------------------------------------\u001b[0m",
      "\u001b[0;31mNameError\u001b[0m                                 Traceback (most recent call last)",
      "\u001b[0;32m<ipython-input-117-2bb2d35394e6>\u001b[0m in \u001b[0;36m<module>\u001b[0;34m\u001b[0m\n\u001b[1;32m      6\u001b[0m \u001b[0max2\u001b[0m\u001b[0;34m.\u001b[0m\u001b[0mset_title\u001b[0m\u001b[0;34m(\u001b[0m\u001b[0;34m'Test set'\u001b[0m\u001b[0;34m)\u001b[0m\u001b[0;34m\u001b[0m\u001b[0;34m\u001b[0m\u001b[0m\n\u001b[1;32m      7\u001b[0m \u001b[0mplt\u001b[0m\u001b[0;34m.\u001b[0m\u001b[0mshow\u001b[0m\u001b[0;34m(\u001b[0m\u001b[0;34m)\u001b[0m\u001b[0;34m\u001b[0m\u001b[0;34m\u001b[0m\u001b[0m\n\u001b[0;32m----> 8\u001b[0;31m \u001b[0mprint\u001b[0m\u001b[0;34m(\u001b[0m\u001b[0mresult\u001b[0m\u001b[0;34m[\u001b[0m\u001b[0;36m0\u001b[0m\u001b[0;34m]\u001b[0m\u001b[0;34m)\u001b[0m\u001b[0;34m\u001b[0m\u001b[0;34m\u001b[0m\u001b[0m\n\u001b[0m",
      "\u001b[0;31mNameError\u001b[0m: name 'result' is not defined"
     ]
    }
   ],
   "source": [
    "f, (ax1, ax2) = plt.subplots(1, 2)\n",
    "\n",
    "ax1=sns.heatmap(conf_matrix, annot=True, fmt='d', ax=ax1, cmap=\"Accent\") #xticklabels=LABELS, yticklabels=LABELS, annot=True, fmt=\"d\");\n",
    "ax1.set_title('Training set')\n",
    "sns.heatmap(conf_matrix, annot=True, fmt='d', ax=ax2, cmap='Accent') #xticklabels=LABELS, yticklabels=LABELS, annot=True, fmt=\"d\");\n",
    "ax2.set_title('Test set')\n",
    "plt.show()\n",
    "print(result[0])"
   ]
  },
  {
   "cell_type": "markdown",
   "metadata": {},
   "source": [
    "# Part 5: Model comparison"
   ]
  },
  {
   "cell_type": "markdown",
   "metadata": {},
   "source": [
    "# Part 6: Conclusion"
   ]
  },
  {
   "cell_type": "code",
   "execution_count": null,
   "metadata": {},
   "outputs": [],
   "source": []
  }
 ],
 "metadata": {
  "kernelspec": {
   "display_name": "Python 3",
   "language": "python",
   "name": "python3"
  },
  "language_info": {
   "codemirror_mode": {
    "name": "ipython",
    "version": 3
   },
   "file_extension": ".py",
   "mimetype": "text/x-python",
   "name": "python",
   "nbconvert_exporter": "python",
   "pygments_lexer": "ipython3",
   "version": "3.8.3"
  }
 },
 "nbformat": 4,
 "nbformat_minor": 2
}
